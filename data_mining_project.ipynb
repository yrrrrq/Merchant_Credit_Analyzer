{
 "cells": [
  {
   "cell_type": "markdown",
   "id": "2451eb67-d361-4913-9a9c-89bb569e3a14",
   "metadata": {},
   "source": [
    "## 1 导入数据"
   ]
  },
  {
   "cell_type": "code",
   "execution_count": 1,
   "id": "b17d3361-231d-4f17-a01a-e42f5df5b6ee",
   "metadata": {},
   "outputs": [
    {
     "name": "stdout",
     "output_type": "stream",
     "text": [
      "                        id  type  status         store_id      merchant_id  \\\n",
      "0        t7895258646038403    30    2001  292289830769797  516101438346939   \n",
      "1        t7895258646051854    30    2000  753408387511040  965952426216589   \n",
      "2        t7895258646061341    30    2000  487886544602057  865666381695711   \n",
      "3        t7895258646069041    30    2000  184152043581967  628144392905567   \n",
      "4        t7895258646082247    30    2000  648228836923143   35792493305336   \n",
      "...                    ...   ...     ...              ...              ...   \n",
      "3590054  t7895258064078196    30    2001  789908637764433  174796936272853   \n",
      "3590055  t7895258064078399    30    2000  745577543103205  978316913256025   \n",
      "3590056  t7895258064090212    30    2000  681061753579100  536592880791599   \n",
      "3590057  t7895258064122128    30    2000  299422691655945  188638695193641   \n",
      "3590058  t7895258064128306    30    2000   73605323921266   58429978598916   \n",
      "\n",
      "         pay_way  sub_pay_way paid_amount          ctime  bankcard_credit  \\\n",
      "0              2            3          \\N  1524391098314                0   \n",
      "1              3            3        2086  1524391163035                0   \n",
      "2              3            1         700  1524391244598                0   \n",
      "3              3            3        1200  1524391264390                0   \n",
      "4              2            3        3500  1524391295250                0   \n",
      "...          ...          ...         ...            ...              ...   \n",
      "3590054        3            3          \\N  1524055371606                0   \n",
      "3590055        3            3        1050  1524055366844             1050   \n",
      "3590056        2            3        3548  1524055446145                0   \n",
      "3590057        2            3         400  1524054788325                0   \n",
      "3590058        3            3        2000  1524054776806                0   \n",
      "\n",
      "         bankcard_debit  wallet_weixin  wallet_alipay  wallet_alipay_finance  \\\n",
      "0                     0              0              0                      0   \n",
      "1                     0           2086              0                      0   \n",
      "2                     0            700              0                      0   \n",
      "3                     0           1200              0                      0   \n",
      "4                     0              0              0                      0   \n",
      "...                 ...            ...            ...                    ...   \n",
      "3590054               0              0              0                      0   \n",
      "3590055               0              0              0                      0   \n",
      "3590056               0              0           3548                      0   \n",
      "3590057               0              0            400                      0   \n",
      "3590058               0           2000              0                      0   \n",
      "\n",
      "         alipay_huabei  alipay_point        pt  \n",
      "0                    0             0  20180422  \n",
      "1                    0             0  20180422  \n",
      "2                    0             0  20180422  \n",
      "3                    0             0  20180422  \n",
      "4                 3500             0  20180422  \n",
      "...                ...           ...       ...  \n",
      "3590054              0             0  20180418  \n",
      "3590055              0             0  20180418  \n",
      "3590056              0             0  20180418  \n",
      "3590057              0             0  20180418  \n",
      "3590058              0             0  20180418  \n",
      "\n",
      "[3590059 rows x 17 columns]\n",
      "\n",
      " history_loan_data  \n",
      "\n",
      "     apply_id      merchant_id           apply_date  lend_amount  lend_period  \\\n",
      "0     9664605   41973696425690  2017-03-08 00:00:00      20000.0            6   \n",
      "1    20869326  175783930702994  2017-07-16 00:00:00      15000.0            4   \n",
      "2    12498066  175783930702994  2017-04-18 00:00:00      15000.0           12   \n",
      "3    17493251  175783930702994  2017-06-10 00:00:00      20000.0            3   \n",
      "4    15656214  175783930702994  2017-05-28 00:00:00       5000.0            1   \n",
      "..        ...              ...                  ...          ...          ...   \n",
      "348  20548822  671059822241463  2017-07-12 00:00:00      17000.0           12   \n",
      "349  20940049  915025426447525  2017-07-17 00:00:00       8000.0            6   \n",
      "350  32746831  966171201249254  2017-11-29 00:00:00       8000.0            3   \n",
      "351  23923765  966171201249254  2017-08-22 00:00:00       8000.0            3   \n",
      "352  21495358  497377049261045  2017-07-24 00:00:00      12000.0            6   \n",
      "\n",
      "    notional_settle_date     real_settle_date  is_30days_overdue  \n",
      "0    2017-09-10 00:00:00  2017-05-12 00:00:00                  0  \n",
      "1    2017-11-19 00:00:00  2017-10-30 00:00:00                  0  \n",
      "2    2018-04-19 00:00:00  2017-05-03 00:00:00                  0  \n",
      "3    2017-09-14 00:00:00  2017-06-22 00:00:00                  0  \n",
      "4    2017-06-29 00:00:00  2017-06-08 00:00:00                  0  \n",
      "..                   ...                  ...                ...  \n",
      "348  2018-07-14 00:00:00  2018-02-03 00:00:00                  0  \n",
      "349  2018-01-18 00:00:00  2017-12-18 00:00:00                  1  \n",
      "350  2018-02-28 00:00:00  2018-02-28 00:00:00                  1  \n",
      "351  2017-11-25 00:00:00  2017-11-24 00:00:00                  1  \n",
      "352  2018-01-26 00:00:00  2018-01-26 00:00:00                  1  \n",
      "\n",
      "[353 rows x 8 columns]\n",
      "\n",
      "\n",
      "\n",
      " merchant_data  \n",
      "\n",
      "          merchant_id  industry_level1  province\n",
      "0     967197052907468                2         1\n",
      "1      41973696425690                1         2\n",
      "2     346695075257509                1         2\n",
      "3     196078761154222                1         1\n",
      "4     332467908909404                1         1\n",
      "...               ...              ...       ...\n",
      "5594  895898746620934                1         1\n",
      "5595  275856269019187                1         1\n",
      "5596   19669928572489                1         1\n",
      "5597  637922340488784                1         1\n",
      "5598  237426271141788                1         3\n",
      "\n",
      "[5599 rows x 3 columns]\n",
      "\n",
      "\n",
      "\n",
      " loan_data_train  \n",
      "\n",
      "      apply_id      merchant_id           apply_date  lend_amount  \\\n",
      "0     53143959  408215340609460  2018-06-11 00:00:00      50000.0   \n",
      "1     52485335  869864018479063  2018-06-06 00:00:00      50000.0   \n",
      "2     53143906  126255549518741  2018-06-11 00:00:00      20000.0   \n",
      "3     49518258  809348934425429  2018-05-02 00:00:00      50000.0   \n",
      "4     52154538  682028853409728  2018-06-03 00:00:00      10000.0   \n",
      "...        ...              ...                  ...          ...   \n",
      "1195  49714941  496941184209173  2018-05-03 00:00:00       2000.0   \n",
      "1196  51775125  858199610559714  2018-05-29 00:00:00      37000.0   \n",
      "1197  52480186  239748687530142  2018-06-06 00:00:00       8000.0   \n",
      "1198  52849275  869789282257853  2018-06-09 00:00:00       6000.0   \n",
      "1199  51179154  577445869192447  2018-05-23 00:00:00      12000.0   \n",
      "\n",
      "      lend_period  is_30days_overdue  \n",
      "0              12                  0  \n",
      "1              12                  0  \n",
      "2               6                  1  \n",
      "3               6                  0  \n",
      "4              12                  1  \n",
      "...           ...                ...  \n",
      "1195           12                  1  \n",
      "1196            3                  1  \n",
      "1197            9                  1  \n",
      "1198            9                  0  \n",
      "1199            4                  0  \n",
      "\n",
      "[1200 rows x 6 columns]\n",
      "\n",
      "\n"
     ]
    }
   ],
   "source": [
    "import numpy as np\n",
    "import pandas as pd\n",
    "import os\n",
    "\n",
    "path = 'data/'\n",
    "\n",
    "# 读取商铺流水数据\n",
    "loss_data_final = pd.read_csv(os.path.join(path, 'loss_transaction/table_lend_transaction_final.txt'), sep = ',')\n",
    "print(loss_data_final)\n",
    "loss_data = loss_data_final.copy()\n",
    "\n",
    "# 读取历史还款数据\n",
    "history_loan_data = pd.read_csv(os.path.join(path, 'history_loan/table_datamining_history_loan.txt'), sep = ',')\n",
    "print('\\n history_loan_data  \\n')\n",
    "print(history_loan_data)\n",
    "print('\\n')\n",
    "\n",
    "# 读取商铺数据\n",
    "merchant_data = pd.read_csv(os.path.join(path, 'merchant/table_datamining_merchant.txt'), sep = ',')\n",
    "print('\\n merchant_data  \\n')\n",
    "print(merchant_data)\n",
    "print('\\n')\n",
    "\n",
    "# 读取贷款数据\n",
    "loan_data_train = pd.read_csv(os.path.join(path, 'loan/table_loan_train.txt'), sep = ',')\n",
    "print('\\n loan_data_train  \\n')\n",
    "print(loan_data_train)\n",
    "print('\\n')\n",
    "\n",
    "loan_data_test = pd.read_csv(os.path.join(path, 'loan/table_loan_test.txt'), sep = ',')\n",
    "#print(loan_data_test)\n"
   ]
  },
  {
   "cell_type": "markdown",
   "id": "492e10f5-7890-4df4-a653-147d9300c6a0",
   "metadata": {},
   "source": [
    "## 2 数据预处理"
   ]
  },
  {
   "cell_type": "markdown",
   "id": "d88ebd6c-da6a-4c09-a660-72bcb19852d8",
   "metadata": {},
   "source": [
    "### 2.1 商铺流水数据"
   ]
  },
  {
   "cell_type": "code",
   "execution_count": 2,
   "id": "0217485d-05ca-4282-992f-bd420ba10b52",
   "metadata": {},
   "outputs": [
    {
     "name": "stdout",
     "output_type": "stream",
     "text": [
      "<class 'pandas.core.frame.DataFrame'>\n",
      "RangeIndex: 2676836 entries, 0 to 2676835\n",
      "Data columns (total 22 columns):\n",
      " #   Column                 Dtype  \n",
      "---  ------                 -----  \n",
      " 0   apply_id               int64  \n",
      " 1   merchant_id            int64  \n",
      " 2   apply_date             object \n",
      " 3   lend_amount            float64\n",
      " 4   lend_period            int64  \n",
      " 5   is_30days_overdue      int64  \n",
      " 6   id                     object \n",
      " 7   type                   float64\n",
      " 8   status                 float64\n",
      " 9   store_id               float64\n",
      " 10  pay_way                float64\n",
      " 11  sub_pay_way            float64\n",
      " 12  paid_amount            object \n",
      " 13  ctime                  float64\n",
      " 14  bankcard_credit        float64\n",
      " 15  bankcard_debit         float64\n",
      " 16  wallet_weixin          float64\n",
      " 17  wallet_alipay          float64\n",
      " 18  wallet_alipay_finance  float64\n",
      " 19  alipay_huabei          float64\n",
      " 20  alipay_point           float64\n",
      " 21  pt                     float64\n",
      "dtypes: float64(15), int64(4), object(3)\n",
      "memory usage: 449.3+ MB\n",
      "None\n"
     ]
    }
   ],
   "source": [
    "# 将流水数据与训练集merge，方便后续操作\n",
    "loss_data_final = loan_data_train.merge(loss_data_final, on='merchant_id', how='left')\n",
    "print(loss_data_final.info())\n",
    "\n",
    "loss_data_final.to_csv(\"loss_data_final.csv\")"
   ]
  },
  {
   "cell_type": "code",
   "execution_count": 3,
   "id": "c68399e8-05dc-4ee1-9f2f-4e6856bf5032",
   "metadata": {},
   "outputs": [],
   "source": [
    "loss_data_final['apply_date'] = pd.to_datetime(loss_data_final['apply_date'])\n",
    "loss_data_final['pt'] = pd.to_datetime(loss_data_final['pt'], format='%Y%m%d')\n",
    "loss_data_final['bankcard_credit'] = pd.to_numeric(loss_data_final['bankcard_credit'])\n",
    "loss_data_final['bankcard_debit'] = pd.to_numeric(loss_data_final['bankcard_debit'])\n",
    "loss_data_final['wallet_weixin'] = pd.to_numeric(loss_data_final['wallet_weixin'])\n",
    "loss_data_final['wallet_alipay'] = pd.to_numeric(loss_data_final['wallet_alipay'])\n",
    "loss_data_final['wallet_alipay_finance'] = pd.to_numeric(loss_data_final['wallet_alipay_finance'])\n",
    "loss_data_final['alipay_huabei'] = pd.to_numeric(loss_data_final['alipay_huabei'])\n",
    "loss_data_final['alipay_point'] = pd.to_numeric(loss_data_final['alipay_point'])"
   ]
  },
  {
   "cell_type": "code",
   "execution_count": 4,
   "id": "eaf34c2a-983a-409f-92f8-98172cd5e378",
   "metadata": {},
   "outputs": [
    {
     "name": "stdout",
     "output_type": "stream",
     "text": [
      "删除已取消的交易后，流水数据的数据量为 2675692\n",
      "删除无意义的交易后，流水数据的数据量为： 2556734\n",
      "store_id\n",
      "6.504803e+10     12515.696809\n",
      "4.086940e+11     29974.285714\n",
      "1.260179e+12      3604.256345\n",
      "3.339298e+12      2168.592593\n",
      "3.698826e+12     34832.755780\n",
      "                    ...      \n",
      "9.943079e+14      2445.627072\n",
      "9.953695e+14    200918.625000\n",
      "9.965617e+14      4703.714286\n",
      "9.966627e+14     10638.759036\n",
      "9.986614e+14      3219.462705\n",
      "Name: paid_amount, Length: 1242, dtype: float64\n"
     ]
    },
    {
     "name": "stderr",
     "output_type": "stream",
     "text": [
      "/var/folders/l8/wygybflx5kv0zwk02x748tn80000gn/T/ipykernel_37529/1025909531.py:23: FutureWarning: A value is trying to be set on a copy of a DataFrame or Series through chained assignment using an inplace method.\n",
      "The behavior will change in pandas 3.0. This inplace method will never work because the intermediate object on which we are setting values always behaves as a copy.\n",
      "\n",
      "For example, when doing 'df[col].method(value, inplace=True)', try using 'df.method({col: value}, inplace=True)' or df[col] = df[col].method(value) instead, to perform the operation inplace on the original object.\n",
      "\n",
      "\n",
      "  loss_data_final['paid_amount'].fillna(loss_data_final.apply(lambda row: store_income_per_day.get((row['store_id'])), axis=1), inplace=True)\n"
     ]
    },
    {
     "name": "stdout",
     "output_type": "stream",
     "text": [
      "替换后，流水数据为：          apply_id      merchant_id apply_date  lend_amount  lend_period  \\\n",
      "0        53143959  408215340609460 2018-06-11      50000.0           12   \n",
      "1        53143959  408215340609460 2018-06-11      50000.0           12   \n",
      "2        53143959  408215340609460 2018-06-11      50000.0           12   \n",
      "3        53143959  408215340609460 2018-06-11      50000.0           12   \n",
      "4        53143959  408215340609460 2018-06-11      50000.0           12   \n",
      "...           ...              ...        ...          ...          ...   \n",
      "2676831  51179154  577445869192447 2018-05-23      12000.0            4   \n",
      "2676832  51179154  577445869192447 2018-05-23      12000.0            4   \n",
      "2676833  51179154  577445869192447 2018-05-23      12000.0            4   \n",
      "2676834  51179154  577445869192447 2018-05-23      12000.0            4   \n",
      "2676835  51179154  577445869192447 2018-05-23      12000.0            4   \n",
      "\n",
      "         is_30days_overdue                 id  type  status      store_id  \\\n",
      "0                        0  t7895258025715464  30.0  2000.0  2.733236e+14   \n",
      "1                        0  t7895258025930977  30.0  2000.0  2.733236e+14   \n",
      "2                        0  t7895258640256311  30.0  2000.0  2.733236e+14   \n",
      "3                        0  t7895258642062367  30.0  2000.0  2.733236e+14   \n",
      "4                        0  t7895258642365932  30.0  2000.0  2.733236e+14   \n",
      "...                    ...                ...   ...     ...           ...   \n",
      "2676831                  0  t7895258807757984  30.0  2000.0  1.752128e+14   \n",
      "2676832                  0  t7895252523888921  30.0  2000.0  1.752128e+14   \n",
      "2676833                  0  t7895252269215696  30.0  2000.0  1.752128e+14   \n",
      "2676834                  0  t7895252595273532  30.0  2000.0  1.752128e+14   \n",
      "2676835                  0  t7895258000000105  30.0  2000.0  1.752128e+14   \n",
      "\n",
      "         ...  paid_amount         ctime  bankcard_credit  bankcard_debit  \\\n",
      "0        ...        688.0  1.524326e+12              0.0             0.0   \n",
      "1        ...         85.0  1.524329e+12            100.0             0.0   \n",
      "2        ...        387.0  1.524396e+12              0.0             0.0   \n",
      "3        ...       2500.0  1.524399e+12              0.0             0.0   \n",
      "4        ...       1100.0  1.524397e+12              0.0             0.0   \n",
      "...      ...          ...           ...              ...             ...   \n",
      "2676831  ...       4600.0  1.523368e+12           4600.0             0.0   \n",
      "2676832  ...       4500.0  1.527406e+12              0.0             0.0   \n",
      "2676833  ...       2300.0  1.526393e+12              0.0             0.0   \n",
      "2676834  ...       1050.0  1.527247e+12              0.0             0.0   \n",
      "2676835  ...       3500.0  1.524235e+12           3500.0             0.0   \n",
      "\n",
      "         wallet_weixin  wallet_alipay  wallet_alipay_finance  alipay_huabei  \\\n",
      "0                700.0            0.0                    0.0            0.0   \n",
      "1                  0.0            0.0                    0.0            0.0   \n",
      "2                400.0            0.0                    0.0            0.0   \n",
      "3               2500.0            0.0                    0.0            0.0   \n",
      "4               1100.0            0.0                    0.0            0.0   \n",
      "...                ...            ...                    ...            ...   \n",
      "2676831            0.0            0.0                    0.0            0.0   \n",
      "2676832            0.0            0.0                    0.0         4500.0   \n",
      "2676833            0.0            0.0                    0.0         2300.0   \n",
      "2676834            0.0            0.0                    0.0         1050.0   \n",
      "2676835            0.0            0.0                    0.0            0.0   \n",
      "\n",
      "         alipay_point         pt  \n",
      "0                 0.0 2018-04-22  \n",
      "1                 0.0 2018-04-22  \n",
      "2                 0.0 2018-04-22  \n",
      "3                 0.0 2018-04-22  \n",
      "4                 0.0 2018-04-22  \n",
      "...               ...        ...  \n",
      "2676831           0.0 2018-04-10  \n",
      "2676832           0.0 2018-05-27  \n",
      "2676833           0.0 2018-05-15  \n",
      "2676834           0.0 2018-05-25  \n",
      "2676835           0.0 2018-04-20  \n",
      "\n",
      "[2556734 rows x 22 columns]\n"
     ]
    }
   ],
   "source": [
    "# 删除已取消的交易（loss_data_final['type']值为10的行）\n",
    "loss_data_final = loss_data_final[loss_data_final['type'] != 10]\n",
    "print(\"删除已取消的交易后，流水数据的数据量为\", loss_data_final.shape[0])\n",
    "\n",
    "# 删除无意义的交易（即'paid_amount'为'\\N'且bankcard_credit、bankcard_debit、wallet_weixin、wallet_alipay、wallet_alipay_finance、alipay_huabei、alipay_point的值均为0的列）\n",
    "loss_data_final['paid_amount'] = loss_data_final['paid_amount'].replace(r'\\N', np.nan) # 将‘\\N’替换为空值\n",
    "loss_data_final['paid_amount'] = pd.to_numeric(loss_data_final['paid_amount'])# 将['paid_amount']列转换为数字类型，方便求均值\n",
    "meaningless_transactions = loss_data_final[(loss_data_final['paid_amount'].isnull()) & \n",
    "                                           (loss_data_final['bankcard_credit'] == 0) &\n",
    "                                           (loss_data_final['bankcard_debit'] == 0) &\n",
    "                                           (loss_data_final['wallet_weixin'] == 0) &\n",
    "                                           (loss_data_final['wallet_alipay'] == 0) &\n",
    "                                           (loss_data_final['wallet_alipay_finance'] == 0) &\n",
    "                                           (loss_data_final['alipay_huabei'] == 0) &\n",
    "                                           (loss_data_final['alipay_point'] == 0)] # 创建条件索引，找出'paid_amount'为NaN且其他支付方式均为0的行\n",
    "loss_data_final.drop(meaningless_transactions.index, inplace=True)\n",
    "print(\"删除无意义的交易后，流水数据的数据量为：\", loss_data_final.shape[0])\n",
    "\n",
    "# 对于['paid_amount']列，使用该商铺该日收入均值替代值为‘\\N’的列\n",
    "store_income_per_day = loss_data_final.groupby(['store_id'])['paid_amount'].mean() # 使用该商铺的日收入均值替代空值\n",
    "print(store_income_per_day)\n",
    "store_income_per_day = store_income_per_day.astype('O')\n",
    "loss_data_final['paid_amount'].fillna(loss_data_final.apply(lambda row: store_income_per_day.get((row['store_id'])), axis=1), inplace=True)\n",
    "\n",
    "#loss_data_final['paid_amount'] = loss_data_final['paid_amount'].fillna(store_income_per_day)\n",
    "print(\"替换后，流水数据为：\", loss_data_final)"
   ]
  },
  {
   "cell_type": "code",
   "execution_count": 5,
   "id": "e5247b20-5a29-4a6d-9aa6-1e07ecae7b51",
   "metadata": {},
   "outputs": [
    {
     "name": "stdout",
     "output_type": "stream",
     "text": [
      "         apply_id      merchant_id apply_date  lend_amount  lend_period  \\\n",
      "0        53143959  408215340609460 2018-06-11      50000.0           12   \n",
      "1        53143959  408215340609460 2018-06-11      50000.0           12   \n",
      "2        53143959  408215340609460 2018-06-11      50000.0           12   \n",
      "3        53143959  408215340609460 2018-06-11      50000.0           12   \n",
      "4        53143959  408215340609460 2018-06-11      50000.0           12   \n",
      "...           ...              ...        ...          ...          ...   \n",
      "2676831  51179154  577445869192447 2018-05-23      12000.0            4   \n",
      "2676832  51179154  577445869192447 2018-05-23      12000.0            4   \n",
      "2676833  51179154  577445869192447 2018-05-23      12000.0            4   \n",
      "2676834  51179154  577445869192447 2018-05-23      12000.0            4   \n",
      "2676835  51179154  577445869192447 2018-05-23      12000.0            4   \n",
      "\n",
      "         is_30days_overdue                 id  type  status      store_id  \\\n",
      "0                        0  t7895258025715464  30.0  2000.0  2.733236e+14   \n",
      "1                        0  t7895258025930977  30.0  2000.0  2.733236e+14   \n",
      "2                        0  t7895258640256311  30.0  2000.0  2.733236e+14   \n",
      "3                        0  t7895258642062367  30.0  2000.0  2.733236e+14   \n",
      "4                        0  t7895258642365932  30.0  2000.0  2.733236e+14   \n",
      "...                    ...                ...   ...     ...           ...   \n",
      "2676831                  0  t7895258807757984  30.0  2000.0  1.752128e+14   \n",
      "2676832                  0  t7895252523888921  30.0  2000.0  1.752128e+14   \n",
      "2676833                  0  t7895252269215696  30.0  2000.0  1.752128e+14   \n",
      "2676834                  0  t7895252595273532  30.0  2000.0  1.752128e+14   \n",
      "2676835                  0  t7895258000000105  30.0  2000.0  1.752128e+14   \n",
      "\n",
      "         ...  paid_amount         ctime  bankcard_credit  bankcard_debit  \\\n",
      "0        ...         6.88  1.524326e+12              0.0             0.0   \n",
      "1        ...         0.85  1.524329e+12              1.0             0.0   \n",
      "2        ...         3.87  1.524396e+12              0.0             0.0   \n",
      "3        ...        25.00  1.524399e+12              0.0             0.0   \n",
      "4        ...        11.00  1.524397e+12              0.0             0.0   \n",
      "...      ...          ...           ...              ...             ...   \n",
      "2676831  ...        46.00  1.523368e+12             46.0             0.0   \n",
      "2676832  ...        45.00  1.527406e+12              0.0             0.0   \n",
      "2676833  ...        23.00  1.526393e+12              0.0             0.0   \n",
      "2676834  ...        10.50  1.527247e+12              0.0             0.0   \n",
      "2676835  ...        35.00  1.524235e+12             35.0             0.0   \n",
      "\n",
      "         wallet_weixin  wallet_alipay  wallet_alipay_finance  alipay_huabei  \\\n",
      "0                  7.0            0.0                    0.0            0.0   \n",
      "1                  0.0            0.0                    0.0            0.0   \n",
      "2                  4.0            0.0                    0.0            0.0   \n",
      "3                 25.0            0.0                    0.0            0.0   \n",
      "4                 11.0            0.0                    0.0            0.0   \n",
      "...                ...            ...                    ...            ...   \n",
      "2676831            0.0            0.0                    0.0            0.0   \n",
      "2676832            0.0            0.0                    0.0           45.0   \n",
      "2676833            0.0            0.0                    0.0           23.0   \n",
      "2676834            0.0            0.0                    0.0           10.5   \n",
      "2676835            0.0            0.0                    0.0            0.0   \n",
      "\n",
      "         alipay_point         pt  \n",
      "0                 0.0 2018-04-22  \n",
      "1                 0.0 2018-04-22  \n",
      "2                 0.0 2018-04-22  \n",
      "3                 0.0 2018-04-22  \n",
      "4                 0.0 2018-04-22  \n",
      "...               ...        ...  \n",
      "2676831           0.0 2018-04-10  \n",
      "2676832           0.0 2018-05-27  \n",
      "2676833           0.0 2018-05-15  \n",
      "2676834           0.0 2018-05-25  \n",
      "2676835           0.0 2018-04-20  \n",
      "\n",
      "[2556734 rows x 22 columns]\n"
     ]
    }
   ],
   "source": [
    "loss_data_final['paid_amount'] = loss_data_final['paid_amount'] / 100\n",
    "loss_data_final['bankcard_credit'] = loss_data_final['bankcard_credit'] / 100\n",
    "loss_data_final['bankcard_debit'] = loss_data_final['bankcard_debit'] / 100\n",
    "loss_data_final['wallet_weixin'] = loss_data_final['wallet_weixin'] / 100\n",
    "loss_data_final['wallet_alipay'] = loss_data_final['wallet_alipay'] /100\n",
    "loss_data_final['wallet_alipay_finance'] = loss_data_final['wallet_alipay_finance'] / 100\n",
    "loss_data_final['alipay_huabei'] = loss_data_final['alipay_huabei'] / 100\n",
    "loss_data_final['alipay_point'] = loss_data_final['alipay_point'] / 100\n",
    "print(loss_data_final)"
   ]
  },
  {
   "cell_type": "code",
   "execution_count": 6,
   "id": "0ca3006b-f091-422a-97e2-a60bc98d0ab0",
   "metadata": {},
   "outputs": [
    {
     "name": "stdout",
     "output_type": "stream",
     "text": [
      "         apply_id      merchant_id apply_date  lend_amount  lend_period  \\\n",
      "100      53143959  408215340609460 2018-06-11      50000.0           12   \n",
      "101      53143959  408215340609460 2018-06-11      50000.0           12   \n",
      "102      53143959  408215340609460 2018-06-11      50000.0           12   \n",
      "103      53143959  408215340609460 2018-06-11      50000.0           12   \n",
      "104      53143959  408215340609460 2018-06-11      50000.0           12   \n",
      "...           ...              ...        ...          ...          ...   \n",
      "2676825  51179154  577445869192447 2018-05-23      12000.0            4   \n",
      "2676828  51179154  577445869192447 2018-05-23      12000.0            4   \n",
      "2676832  51179154  577445869192447 2018-05-23      12000.0            4   \n",
      "2676833  51179154  577445869192447 2018-05-23      12000.0            4   \n",
      "2676834  51179154  577445869192447 2018-05-23      12000.0            4   \n",
      "\n",
      "         is_30days_overdue                 id  type  status      store_id  \\\n",
      "100                      0  t7895252214575412  30.0  2000.0  2.733236e+14   \n",
      "101                      0  t7895252216135024  30.0  2000.0  2.733236e+14   \n",
      "102                      0  t7895252212232813  30.0  2000.0  2.733236e+14   \n",
      "103                      0  t7895252212519190  30.0  2000.0  2.733236e+14   \n",
      "104                      0  t7895252217293518  30.0  2000.0  2.733236e+14   \n",
      "...                    ...                ...   ...     ...           ...   \n",
      "2676825                  0  t7895252320637667  30.0  2000.0  1.752128e+14   \n",
      "2676828                  0  t7895252332177839  30.0  2000.0  1.752128e+14   \n",
      "2676832                  0  t7895252523888921  30.0  2000.0  1.752128e+14   \n",
      "2676833                  0  t7895252269215696  30.0  2000.0  1.752128e+14   \n",
      "2676834                  0  t7895252595273532  30.0  2000.0  1.752128e+14   \n",
      "\n",
      "         ...  paid_amount         ctime  bankcard_credit  bankcard_debit  \\\n",
      "100      ...         3.50  1.526116e+12              0.0             0.0   \n",
      "101      ...         4.58  1.526125e+12              0.0             0.0   \n",
      "102      ...        10.50  1.526137e+12              0.0             0.0   \n",
      "103      ...         7.00  1.526133e+12              0.0             0.0   \n",
      "104      ...         3.00  1.526108e+12              0.0             0.0   \n",
      "...      ...          ...           ...              ...             ...   \n",
      "2676825  ...       368.00  1.528105e+12              0.0           368.0   \n",
      "2676828  ...        75.00  1.527521e+12              0.0             0.0   \n",
      "2676832  ...        45.00  1.527406e+12              0.0             0.0   \n",
      "2676833  ...        23.00  1.526393e+12              0.0             0.0   \n",
      "2676834  ...        10.50  1.527247e+12              0.0             0.0   \n",
      "\n",
      "         wallet_weixin  wallet_alipay  wallet_alipay_finance  alipay_huabei  \\\n",
      "100                3.5            0.0                    0.0           0.00   \n",
      "101                0.0            0.0                    0.0           4.58   \n",
      "102               10.5            0.0                    0.0           0.00   \n",
      "103                0.0            0.0                    0.0           7.00   \n",
      "104                3.0            0.0                    0.0           0.00   \n",
      "...                ...            ...                    ...            ...   \n",
      "2676825            0.0            0.0                    0.0           0.00   \n",
      "2676828           75.0            0.0                    0.0           0.00   \n",
      "2676832            0.0            0.0                    0.0          45.00   \n",
      "2676833            0.0            0.0                    0.0          23.00   \n",
      "2676834            0.0            0.0                    0.0          10.50   \n",
      "\n",
      "         alipay_point         pt  \n",
      "100               0.0 2018-05-12  \n",
      "101               0.0 2018-05-12  \n",
      "102               0.0 2018-05-12  \n",
      "103               0.0 2018-05-12  \n",
      "104               0.0 2018-05-12  \n",
      "...               ...        ...  \n",
      "2676825           0.0 2018-06-04  \n",
      "2676828           0.0 2018-05-28  \n",
      "2676832           0.0 2018-05-27  \n",
      "2676833           0.0 2018-05-15  \n",
      "2676834           0.0 2018-05-25  \n",
      "\n",
      "[1930871 rows x 22 columns]\n"
     ]
    }
   ],
   "source": [
    "# 将在apply_date之前30天的流水数据视为有效数据，删除其他数据\n",
    "loss_data_final = loss_data_final[(loss_data_final['apply_date'] - loss_data_final['pt']).dt.days.le(30)]\n",
    "print(loss_data_final)"
   ]
  },
  {
   "cell_type": "markdown",
   "id": "7e1dab67-3c59-4c67-ad95-8a2e95c67030",
   "metadata": {},
   "source": [
    "### 2.2 历史贷款数据"
   ]
  },
  {
   "cell_type": "code",
   "execution_count": 7,
   "id": "79f4df8f-10c8-4b73-b75d-f87afdb0d354",
   "metadata": {},
   "outputs": [
    {
     "name": "stdout",
     "output_type": "stream",
     "text": [
      "     apply_id      merchant_id           apply_date  lend_amount  lend_period  \\\n",
      "0     9664605   41973696425690  2017-03-08 00:00:00      20000.0            6   \n",
      "1    20869326  175783930702994  2017-07-16 00:00:00      15000.0            4   \n",
      "2    12498066  175783930702994  2017-04-18 00:00:00      15000.0           12   \n",
      "3    17493251  175783930702994  2017-06-10 00:00:00      20000.0            3   \n",
      "4    15656214  175783930702994  2017-05-28 00:00:00       5000.0            1   \n",
      "..        ...              ...                  ...          ...          ...   \n",
      "348  20548822  671059822241463  2017-07-12 00:00:00      17000.0           12   \n",
      "349  20940049  915025426447525  2017-07-17 00:00:00       8000.0            6   \n",
      "350  32746831  966171201249254  2017-11-29 00:00:00       8000.0            3   \n",
      "351  23923765  966171201249254  2017-08-22 00:00:00       8000.0            3   \n",
      "352  21495358  497377049261045  2017-07-24 00:00:00      12000.0            6   \n",
      "\n",
      "    notional_settle_date     real_settle_date  is_30days_overdue  \n",
      "0    2017-09-10 00:00:00  2017-05-12 00:00:00                  0  \n",
      "1    2017-11-19 00:00:00  2017-10-30 00:00:00                  0  \n",
      "2    2018-04-19 00:00:00  2017-05-03 00:00:00                  0  \n",
      "3    2017-09-14 00:00:00  2017-06-22 00:00:00                  0  \n",
      "4    2017-06-29 00:00:00  2017-06-08 00:00:00                  0  \n",
      "..                   ...                  ...                ...  \n",
      "348  2018-07-14 00:00:00  2018-02-03 00:00:00                  0  \n",
      "349  2018-01-18 00:00:00  2017-12-18 00:00:00                  1  \n",
      "350  2018-02-28 00:00:00  2018-02-28 00:00:00                  1  \n",
      "351  2017-11-25 00:00:00  2017-11-24 00:00:00                  1  \n",
      "352  2018-01-26 00:00:00  2018-01-26 00:00:00                  1  \n",
      "\n",
      "[353 rows x 8 columns]\n"
     ]
    }
   ],
   "source": [
    "history_loan_data['lend_amount'] = pd.to_numeric(history_loan_data['lend_amount'])\n",
    "print(history_loan_data)"
   ]
  },
  {
   "cell_type": "markdown",
   "id": "383a4448-c088-4987-a426-50b4e220b53d",
   "metadata": {},
   "source": [
    "## 3 数据特征提取"
   ]
  },
  {
   "cell_type": "markdown",
   "id": "383c33f5-1b88-4b93-9af0-fd06ad20d07c",
   "metadata": {},
   "source": [
    "### 3.1 商铺流水数据"
   ]
  },
  {
   "cell_type": "markdown",
   "id": "37177e59-40f5-407b-9a1c-284550e260e4",
   "metadata": {},
   "source": [
    "#### 3.1.1 商户平均每日消费者支付金额、平均每日红包使用金额"
   ]
  },
  {
   "cell_type": "code",
   "execution_count": 8,
   "id": "94ff4f57-9f6d-464a-ab38-27e58cf3a25c",
   "metadata": {},
   "outputs": [
    {
     "name": "stdout",
     "output_type": "stream",
     "text": [
      "          merchant_id apply_date  merchant_income_per_order\n",
      "0        762310083866 2018-05-02                 136.105679\n",
      "1       1676030187902 2018-06-09                   7.225627\n",
      "2       1782234936129 2018-06-04                  17.885975\n",
      "3       3033389109799 2018-05-07                   6.725548\n",
      "4       3366806736059 2018-06-15                 100.000000\n",
      "...               ...        ...                        ...\n",
      "1101  994645764571114 2018-06-06                  24.005611\n",
      "1102  994652092978753 2018-05-01                  59.360708\n",
      "1103  994854574471832 2018-06-03                  21.757767\n",
      "1104  996811711585523 2018-06-01                 237.048298\n",
      "1105  997572759685728 2018-05-06                1451.335333\n",
      "\n",
      "[1106 rows x 3 columns]\n",
      "          merchant_id apply_date  red_envelope_per_day\n",
      "0        762310083866 2018-05-02              6.915200\n",
      "1       1676030187902 2018-06-09              0.648649\n",
      "2       1782234936129 2018-06-04              0.547619\n",
      "3       3033389109799 2018-05-07              2.610143\n",
      "4       3366806736059 2018-06-15              0.000000\n",
      "...               ...        ...                   ...\n",
      "1101  994645764571114 2018-06-06              0.833333\n",
      "1102  994652092978753 2018-05-01              0.346842\n",
      "1103  994854574471832 2018-06-03              0.000000\n",
      "1104  996811711585523 2018-06-01              0.000000\n",
      "1105  997572759685728 2018-05-06              0.000000\n",
      "\n",
      "[1106 rows x 3 columns]\n"
     ]
    }
   ],
   "source": [
    "# 商户申请前30天平均每单消费者支付金额\n",
    "merchant_income_per_order = loss_data_final.groupby(['merchant_id', 'apply_date'])['paid_amount'].mean().reset_index(name='merchant_income_per_order')\n",
    "print(merchant_income_per_order)\n",
    "\n",
    "#merchant_income_per_order.to_csv('merchant_income_per_order.csv')\n",
    "\n",
    "# 商户申请前30天平均每日红包使用金额\n",
    "loss_data_final['red_envelope'] = loss_data_final['paid_amount'] - loss_data_final[['bankcard_credit', \n",
    "                                                                                    'bankcard_debit', \n",
    "                                                                                    'wallet_weixin', \n",
    "                                                                                    'wallet_alipay', \n",
    "                                                                                    'wallet_alipay_finance', \n",
    "                                                                                    'alipay_huabei', \n",
    "                                                                                    'alipay_point']].sum(axis=1)\n",
    "\n",
    "merchant_red_envelope = loss_data_final.groupby(\n",
    "    ['merchant_id', 'apply_date', loss_data_final['pt'].dt.date])['red_envelope'].sum()\n",
    "merchant_red_envelope_per_day = merchant_red_envelope.groupby(\n",
    "    ['merchant_id', 'apply_date']).mean().reset_index(name='red_envelope_per_day')\n",
    "print(merchant_red_envelope_per_day)"
   ]
  },
  {
   "cell_type": "markdown",
   "id": "7967e2da-88b1-4e83-8908-3699cc618bde",
   "metadata": {},
   "source": [
    "#### 3.1.2 商户储蓄卡、微信余额、支付宝余额、支付宝余额宝的平均每日消费者支付金额，商户信用卡、花呗、集分宝的平均每日消费者支付金额"
   ]
  },
  {
   "cell_type": "code",
   "execution_count": 9,
   "id": "c112247a-9621-474f-a53b-33825d317639",
   "metadata": {},
   "outputs": [
    {
     "name": "stdout",
     "output_type": "stream",
     "text": [
      "商户储蓄卡、微信余额、支付宝余额、支付宝余额宝的平均每日消费者支付金额：\n",
      "merchant_id      apply_date\n",
      "762310083866     2018-05-02    106.822362\n",
      "1676030187902    2018-06-09      6.095030\n",
      "1782234936129    2018-06-04     12.877924\n",
      "3033389109799    2018-05-07      6.580649\n",
      "3366806736059    2018-06-15      0.000000\n",
      "                                  ...    \n",
      "994645764571114  2018-06-06     20.127143\n",
      "994652092978753  2018-05-01     10.578678\n",
      "994854574471832  2018-06-03     11.185767\n",
      "996811711585523  2018-06-01    194.953723\n",
      "997572759685728  2018-05-06    397.224000\n",
      "Name: D_W_A_AF, Length: 1106, dtype: float64\n",
      "\n",
      "商户信用卡、花呗、集分宝的平均每日消费者支付金额：\n",
      "merchant_id      apply_date\n",
      "762310083866     2018-05-02      28.648507\n",
      "1676030187902    2018-06-09       1.118561\n",
      "1782234936129    2018-06-04       4.971601\n",
      "3033389109799    2018-05-07       0.092919\n",
      "3366806736059    2018-06-15     100.000000\n",
      "                                  ...     \n",
      "994645764571114  2018-06-06       3.847412\n",
      "994652092978753  2018-05-01      48.770294\n",
      "994854574471832  2018-06-03      10.572000\n",
      "996811711585523  2018-06-01      42.094574\n",
      "997572759685728  2018-05-06    1054.111333\n",
      "Name: C_H_P, Length: 1106, dtype: float64\n"
     ]
    }
   ],
   "source": [
    "# 商户储蓄卡(D)、微信余额(W)、支付宝余额(A)、支付宝余额宝(AF)的平均每日消费者支付金额（申请前30天）\n",
    "loss_data_final['D_W_A_AF'] = loss_data_final[['bankcard_debit', 'wallet_weixin', 'wallet_alipay', 'wallet_alipay_finance']].sum(axis=1)\n",
    "merchant_mean_daily_payment = loss_data_final.groupby(['merchant_id', 'apply_date'])['D_W_A_AF'].mean()\n",
    "\n",
    "# 商户信用卡(C)、花呗(H)、集分宝(P)的平均每日消费者支付金额（申请前30天）\n",
    "loss_data_final['C_H_P'] = loss_data_final[['bankcard_credit', 'alipay_huabei', 'alipay_point']].sum(axis=1)\n",
    "merchant_mean_daily_payment_credit_huabei_point = loss_data_final.groupby(['merchant_id', 'apply_date'])['C_H_P'].mean()\n",
    "\n",
    "print(\"商户储蓄卡、微信余额、支付宝余额、支付宝余额宝的平均每日消费者支付金额：\")\n",
    "print(merchant_mean_daily_payment)\n",
    "\n",
    "print(\"\\n商户信用卡、花呗、集分宝的平均每日消费者支付金额：\")\n",
    "print(merchant_mean_daily_payment_credit_huabei_point)"
   ]
  },
  {
   "cell_type": "markdown",
   "id": "c9527081-185e-40fa-bd85-aa91156af49c",
   "metadata": {},
   "source": [
    "#### 3.1.3 商户交易活动度（交易次数、交易总金额、交易金额的标准差）"
   ]
  },
  {
   "cell_type": "code",
   "execution_count": 10,
   "id": "69f34909-a813-4298-8f43-cf2e6582bd1e",
   "metadata": {},
   "outputs": [
    {
     "name": "stdout",
     "output_type": "stream",
     "text": [
      "          merchant_id apply_date  transaction_amount_per_day_std\n",
      "0        762310083866 2018-05-02                     1617.707225\n",
      "1       1676030187902 2018-06-09                      327.394540\n",
      "2       1782234936129 2018-06-04                      423.737259\n",
      "3       3033389109799 2018-05-07                      132.878874\n",
      "4       3366806736059 2018-06-15                             NaN\n",
      "...               ...        ...                             ...\n",
      "1101  994645764571114 2018-06-06                      298.455365\n",
      "1102  994652092978753 2018-05-01                     3057.907385\n",
      "1103  994854574471832 2018-06-03                      313.775503\n",
      "1104  996811711585523 2018-06-01                      670.389710\n",
      "1105  997572759685728 2018-05-06                     6076.156425\n",
      "\n",
      "[1106 rows x 3 columns]\n",
      "<class 'pandas.core.frame.DataFrame'>\n",
      "RangeIndex: 1106 entries, 0 to 1105\n",
      "Data columns (total 3 columns):\n",
      " #   Column                          Non-Null Count  Dtype         \n",
      "---  ------                          --------------  -----         \n",
      " 0   merchant_id                     1106 non-null   int64         \n",
      " 1   apply_date                      1106 non-null   datetime64[ns]\n",
      " 2   transaction_amount_per_day_std  1076 non-null   float64       \n",
      "dtypes: datetime64[ns](1), float64(1), int64(1)\n",
      "memory usage: 26.1 KB\n",
      "None\n"
     ]
    }
   ],
   "source": [
    "# 根据商户分组并计算交易总金额和交易金额的标准差（申请前30天）\n",
    "merchant_activity = loss_data_final.groupby(\n",
    "    ['merchant_id', 'apply_date', loss_data_final['pt'].dt.date])['paid_amount'].sum()\n",
    "merchant_activity_per_day = merchant_activity.groupby(['merchant_id', 'apply_date']).std()\n",
    "\n",
    "# 重命名列名\n",
    "merchant_activity_per_day.columns = ['transaction_amount_std']\n",
    "merchant_activity_per_day = merchant_activity_per_day.reset_index(name='transaction_amount_per_day_std')\n",
    "\n",
    "# 显示结果\n",
    "print(merchant_activity_per_day)\n",
    "print(merchant_activity_per_day.info())"
   ]
  },
  {
   "cell_type": "code",
   "execution_count": 11,
   "id": "c8f40928-d85b-412e-ac9d-2a179f0edc8f",
   "metadata": {},
   "outputs": [
    {
     "name": "stdout",
     "output_type": "stream",
     "text": [
      "1106\n"
     ]
    }
   ],
   "source": [
    "print(loss_data_final['apply_id'].unique().shape[0])\n"
   ]
  },
  {
   "cell_type": "markdown",
   "id": "f6949787-63b9-4ada-84b5-529ce412ce0f",
   "metadata": {},
   "source": [
    "#### 3.1.4 商户信用卡支付金额与总支付金额的比例、花呗支付金额与总支付金额的比例"
   ]
  },
  {
   "cell_type": "code",
   "execution_count": 12,
   "id": "a0074f91-51ce-48ff-aaaa-4cc9505716f0",
   "metadata": {},
   "outputs": [
    {
     "name": "stdout",
     "output_type": "stream",
     "text": [
      "信用卡支付金额与总支付金额的比例（按商户）：\n",
      "          merchant_id apply_date  credit_card_ratio\n",
      "0        762310083866 2018-05-02           0.149929\n",
      "1       1676030187902 2018-06-09           0.048886\n",
      "2       1782234936129 2018-06-04           0.068637\n",
      "3       3033389109799 2018-05-07           0.013923\n",
      "4       3366806736059 2018-06-15           0.000000\n",
      "...               ...        ...                ...\n",
      "1101  994645764571114 2018-06-06           0.032918\n",
      "1102  994652092978753 2018-05-01           0.654964\n",
      "1103  994854574471832 2018-06-03           0.447605\n",
      "1104  996811711585523 2018-06-01           0.138220\n",
      "1105  997572759685728 2018-05-06           0.726304\n",
      "\n",
      "[1106 rows x 3 columns]\n",
      "\n",
      "花呗支付金额与总支付金额的比例（按商户）：\n",
      "          merchant_id apply_date  huabei_ratio\n",
      "0        762310083866 2018-05-02      0.061544\n",
      "1       1676030187902 2018-06-09      0.106177\n",
      "2       1782234936129 2018-06-04      0.209892\n",
      "3       3033389109799 2018-05-07      0.000000\n",
      "4       3366806736059 2018-06-15      1.000000\n",
      "...               ...        ...           ...\n",
      "1101  994645764571114 2018-06-06      0.127561\n",
      "1102  994652092978753 2018-05-01      0.166791\n",
      "1103  994854574471832 2018-06-03      0.038291\n",
      "1104  996811711585523 2018-06-01      0.039358\n",
      "1105  997572759685728 2018-05-06      0.000000\n",
      "\n",
      "[1106 rows x 3 columns]\n"
     ]
    }
   ],
   "source": [
    "# 计算每个商户的总支付金额（申请前30天）\n",
    "total_payment_per_merchant = loss_data_final.groupby(['merchant_id', 'apply_date'])[['bankcard_debit', 'wallet_weixin', 'wallet_alipay', 'wallet_alipay_finance', 'bankcard_credit', 'alipay_huabei', 'alipay_point']].sum()\n",
    "total_payment_per_merchant['total_payment'] = total_payment_per_merchant.sum(axis=1)\n",
    "\n",
    "# 计算信用卡支付金额与总支付金额的比例（申请前30天）\n",
    "credit_card_payment_ratio_per_merchant = total_payment_per_merchant['bankcard_credit'] / total_payment_per_merchant['total_payment']\n",
    "credit_card_payment_ratio_per_merchant = credit_card_payment_ratio_per_merchant.reset_index(name='credit_card_ratio')\n",
    "# 计算花呗支付金额与总支付金额的比例（申请前30天）\n",
    "huabei_payment_ratio_per_merchant = total_payment_per_merchant['alipay_huabei'] / total_payment_per_merchant['total_payment']\n",
    "huabei_payment_ratio_per_merchant = huabei_payment_ratio_per_merchant.reset_index(name='huabei_ratio')\n",
    "\n",
    "# 显示结果\n",
    "print(\"信用卡支付金额与总支付金额的比例（按商户）：\")\n",
    "print(credit_card_payment_ratio_per_merchant)\n",
    "\n",
    "print(\"\\n花呗支付金额与总支付金额的比例（按商户）：\")\n",
    "print(huabei_payment_ratio_per_merchant)"
   ]
  },
  {
   "cell_type": "markdown",
   "id": "b7c6a85f-a14d-4634-ae0b-6e90b333d330",
   "metadata": {},
   "source": [
    "#### 3.1.5 交易频率、交易金额统计特征（平均值、总额、最大值、最小值）"
   ]
  },
  {
   "cell_type": "code",
   "execution_count": 13,
   "id": "651fda06-4b83-488d-ac33-ac8294baebcb",
   "metadata": {},
   "outputs": [
    {
     "name": "stdout",
     "output_type": "stream",
     "text": [
      "每个商户的交易总数：\n",
      "          merchant_id apply_date  transaction_total_count\n",
      "0        762310083866 2018-05-02                      817\n",
      "1       1676030187902 2018-06-09                     1994\n",
      "2       1782234936129 2018-06-04                      631\n",
      "3       3033389109799 2018-05-07                     3515\n",
      "4       3366806736059 2018-06-15                        1\n",
      "...               ...        ...                      ...\n",
      "1101  994645764571114 2018-06-06                      483\n",
      "1102  994652092978753 2018-05-01                     2246\n",
      "1103  994854574471832 2018-06-03                      215\n",
      "1104  996811711585523 2018-06-01                       94\n",
      "1105  997572759685728 2018-05-06                       45\n",
      "\n",
      "[1106 rows x 3 columns]\n",
      "每个商户平均每日交易数量：\n",
      "          merchant_id apply_date  transaction_count_per_day\n",
      "0        762310083866 2018-05-02                  10.893333\n",
      "1       1676030187902 2018-06-09                  53.891892\n",
      "2       1782234936129 2018-06-04                  15.023810\n",
      "3       3033389109799 2018-05-07                  50.214286\n",
      "4       3366806736059 2018-06-15                   1.000000\n",
      "...               ...        ...                        ...\n",
      "1101  994645764571114 2018-06-06                  26.833333\n",
      "1102  994652092978753 2018-05-01                  29.552632\n",
      "1103  994854574471832 2018-06-03                   5.243902\n",
      "1104  996811711585523 2018-06-01                   2.473684\n",
      "1105  997572759685728 2018-05-06                   1.451613\n",
      "\n",
      "[1106 rows x 3 columns]\n",
      "\n",
      "每个商户的交易金额统计特征：\n",
      "          merchant_id apply_date         mean        sum       max     min\n",
      "0        762310083866 2018-05-02  1482.644533  111198.34  11900.89  102.00\n",
      "1       1676030187902 2018-06-09   389.402703   14407.90   2252.49  229.56\n",
      "2       1782234936129 2018-06-04   268.715476   11286.05   1705.00   12.02\n",
      "3       3033389109799 2018-05-07   337.718571   23640.30    690.51   54.39\n",
      "4       3366806736059 2018-06-15   100.000000     100.00    100.00  100.00\n",
      "...               ...        ...          ...        ...       ...     ...\n",
      "1101  994645764571114 2018-06-06   644.150556   11594.71   1161.39   12.01\n",
      "1102  994652092978753 2018-05-01  1754.265132  133324.15  19001.38  193.50\n",
      "1103  994854574471832 2018-06-03   114.095610    4677.92   2065.00   18.00\n",
      "1104  996811711585523 2018-06-01   586.382632   22282.54   3145.85    0.86\n",
      "1105  997572759685728 2018-05-06  2106.777097   65310.09  26964.89    2.00\n",
      "\n",
      "[1106 rows x 6 columns]\n"
     ]
    }
   ],
   "source": [
    "# 计算每个商户的交易次数（申请前30天）\n",
    "transaction_count_per_merchant = loss_data_final.groupby(['merchant_id', 'apply_date']).size().reset_index(name='transaction_total_count')\n",
    "\n",
    "# 计算每个商户每日平均交易次数（申请前30天）\n",
    "transaction_count_per_day = loss_data_final.groupby(\n",
    "    ['merchant_id', 'apply_date', loss_data_final['pt'].dt.date]).size()\n",
    "transaction_count_per_day_per_merchant = transaction_count_per_day.groupby(\n",
    "    ['merchant_id', 'apply_date']).mean().reset_index(name='transaction_count_per_day')\n",
    "\n",
    "# 计算每个商户的交易金额统计特征（申请前30天）\n",
    "transaction_amount_statistics_per_merchant = loss_data_final.groupby(['merchant_id', 'apply_date', loss_data_final['pt'].dt.date])['paid_amount'].sum()\n",
    "transaction_amount_statistics_per_merchant_per_day = transaction_amount_statistics_per_merchant.groupby(['merchant_id', 'apply_date']).agg(['mean', 'sum', 'max', 'min']).reset_index()\n",
    "\n",
    "# 打印结果\n",
    "print(\"每个商户的交易总数：\")\n",
    "print(transaction_count_per_merchant)\n",
    "\n",
    "print(\"每个商户平均每日交易数量：\")\n",
    "print(transaction_count_per_day_per_merchant)\n",
    "\n",
    "print(\"\\n每个商户的交易金额统计特征：\")\n",
    "print(transaction_amount_statistics_per_merchant_per_day)"
   ]
  },
  {
   "cell_type": "markdown",
   "id": "84c2b02c-2e4a-42a8-9e8d-ee102705dacc",
   "metadata": {},
   "source": [
    "### 3.2 历史贷款申请数据"
   ]
  },
  {
   "cell_type": "markdown",
   "id": "43dfff8e-e61e-4cee-b715-8ceda72c698a",
   "metadata": {},
   "source": [
    "#### 3.2.1 同一贷款人 id 贷款次数、逾期 30 天还款现象的贷款交易数、未逾期还贷频率、逾期率（逾期的次数与总贷款次数的比值）、是否出现最后还款期限内未还完的情况（通过理论结清日和实际结清日判断"
   ]
  },
  {
   "cell_type": "code",
   "execution_count": 14,
   "id": "f061cf44-afd8-4058-8238-d5cd633e1e0e",
   "metadata": {},
   "outputs": [],
   "source": [
    "history_loan_data[\"notional_settle_date\"] = pd.to_datetime(history_loan_data[\"notional_settle_date\"])\n",
    "history_loan_data[\"real_settle_date\"] = pd.to_datetime(history_loan_data[\"real_settle_date\"])"
   ]
  },
  {
   "cell_type": "code",
   "execution_count": 15,
   "id": "0324996f-4f37-43de-b3b6-1c6b17c90e20",
   "metadata": {},
   "outputs": [
    {
     "name": "stdout",
     "output_type": "stream",
     "text": [
      "同一贷款人的贷款次数：\n",
      "         merchant_id  loan_count\n",
      "0       751583638317           1\n",
      "1      1782234936129           1\n",
      "2     17057045800892           1\n",
      "3     20432892828619           2\n",
      "4     23977383928717           1\n",
      "..               ...         ...\n",
      "264  977922938114444           1\n",
      "265  988580183586241           1\n",
      "266  989840099406088           1\n",
      "267  990771863905824           2\n",
      "268  997267937584480           1\n",
      "\n",
      "[269 rows x 2 columns]\n",
      "\n",
      "逾期 30 天还款现象的贷款交易数：\n",
      "         merchant_id  overdue_count\n",
      "0     41973696425690            0.0\n",
      "1    175783930702994            0.0\n",
      "2     37740656205727            1.0\n",
      "3    569468845853568            0.0\n",
      "4    473359066685652            1.0\n",
      "..               ...            ...\n",
      "264  339900431712051            1.0\n",
      "265  671059822241463            0.0\n",
      "266  915025426447525            1.0\n",
      "267  966171201249254            2.0\n",
      "268  497377049261045            1.0\n",
      "\n",
      "[269 rows x 2 columns]\n",
      "\n",
      "未逾期还贷频率：\n",
      "         merchant_id  non_overdue_rate\n",
      "0       751583638317               0.0\n",
      "1      1782234936129               1.0\n",
      "2     17057045800892               0.0\n",
      "3     20432892828619               0.5\n",
      "4     23977383928717               1.0\n",
      "..               ...               ...\n",
      "264  977922938114444               1.0\n",
      "265  988580183586241               0.0\n",
      "266  989840099406088               1.0\n",
      "267  990771863905824               1.0\n",
      "268  997267937584480               1.0\n",
      "\n",
      "[269 rows x 2 columns]\n",
      "\n",
      "逾期率：\n",
      "         merchant_id  overdue_rate\n",
      "0       751583638317           1.0\n",
      "1      1782234936129           0.0\n",
      "2     17057045800892           1.0\n",
      "3     20432892828619           0.5\n",
      "4     23977383928717           0.0\n",
      "..               ...           ...\n",
      "264  977922938114444           0.0\n",
      "265  988580183586241           1.0\n",
      "266  989840099406088           0.0\n",
      "267  990771863905824           0.0\n",
      "268  997267937584480           0.0\n",
      "\n",
      "[269 rows x 2 columns]\n",
      "\n",
      "是否出现最后还款期限内未还完的情况：\n",
      "merchant_id\n",
      "751583638317       False\n",
      "1782234936129      False\n",
      "17057045800892     False\n",
      "20432892828619     False\n",
      "23977383928717     False\n",
      "                   ...  \n",
      "977922938114444    False\n",
      "988580183586241    False\n",
      "989840099406088    False\n",
      "990771863905824    False\n",
      "997267937584480    False\n",
      "Name: is_not_fully_repaid, Length: 269, dtype: bool\n",
      "\n",
      "出现最后还款期限内未还完的情况的数量： 16\n"
     ]
    }
   ],
   "source": [
    "# 创建包含所有 merchant_id 的 DataFrame\n",
    "all_merchant_ids = history_loan_data['merchant_id'].unique()\n",
    "all_merchants = pd.DataFrame({'merchant_id': all_merchant_ids})\n",
    "\n",
    "# 计算同一贷款人的贷款次数\n",
    "loan_count_per_borrower = history_loan_data.groupby('merchant_id').size().reset_index(name='loan_count')\n",
    "\n",
    "# 计算逾期 30 天还款现象的贷款交易数（添加默认值为0，避免计算逾期率和未逾期率时出现NAN的情况）\n",
    "overdue_30_days_count = history_loan_data[history_loan_data['is_30days_overdue'] == 1].groupby('merchant_id').size().reset_index(name='overdue_count')\n",
    "overdue_30_days_count = all_merchants.merge(overdue_30_days_count, how='left', left_on='merchant_id', right_on='merchant_id') # 将计算得到的逾期交易数与所有贷款人合并，并使用默认值 0 填充缺失值\n",
    "overdue_30_days_count['overdue_count'] = overdue_30_days_count['overdue_count'].fillna(0) # 为了防止后续计算逾期率和未逾期率时无法找到逾期30天的次数为0的商户而导致出现NAN的情况\n",
    "\n",
    "# 计算逾期还贷频率\n",
    "history_merged_data = loan_count_per_borrower.merge(overdue_30_days_count, on='merchant_id', how='left')\n",
    "history_merged_data['overdue_rate'] = history_merged_data['overdue_count'] / history_merged_data['loan_count']\n",
    "\n",
    "# 计算未逾期还款率\n",
    "history_merged_data['non_overdue_count'] = history_merged_data['loan_count'] - history_merged_data['overdue_count']\n",
    "history_merged_data['non_overdue_rate'] = history_merged_data['non_overdue_count'] / history_merged_data['loan_count']\n",
    "\n",
    "# 判断是否出现最后还款期限内未还完的情况\n",
    "history_loan_data['is_not_fully_repaid'] = (history_loan_data['notional_settle_date'] < history_loan_data['real_settle_date'])\n",
    "\n",
    "# 按贷款人ID计算是否出现最后还款期限内未还完的情况\n",
    "not_fully_repaid_per_borrower = history_loan_data.groupby('merchant_id')['is_not_fully_repaid'].any()\n",
    "\n",
    "# 打印结果\n",
    "print(\"同一贷款人的贷款次数：\")\n",
    "print(loan_count_per_borrower)\n",
    "\n",
    "print(\"\\n逾期 30 天还款现象的贷款交易数：\")\n",
    "print(overdue_30_days_count)\n",
    "\n",
    "print(\"\\n未逾期还贷频率：\")\n",
    "print(history_merged_data[['merchant_id', 'non_overdue_rate']])\n",
    "\n",
    "print(\"\\n逾期率：\")\n",
    "print(history_merged_data[['merchant_id', 'overdue_rate']])\n",
    "\n",
    "print(\"\\n是否出现最后还款期限内未还完的情况：\")\n",
    "print(not_fully_repaid_per_borrower)\n",
    "print(\"\\n出现最后还款期限内未还完的情况的数量：\", (history_loan_data['is_not_fully_repaid'] == True).sum())"
   ]
  },
  {
   "cell_type": "markdown",
   "id": "7ec9dd10-0373-4012-9816-42bf20c1f51d",
   "metadata": {},
   "source": [
    "#### 3.2.2 实际还款和理论还款之间的天数差异"
   ]
  },
  {
   "cell_type": "code",
   "execution_count": 16,
   "id": "218b76d3-d1c1-4d2c-91b3-e0b771e871a3",
   "metadata": {},
   "outputs": [
    {
     "name": "stdout",
     "output_type": "stream",
     "text": [
      "0     -121\n",
      "1      -20\n",
      "2     -351\n",
      "3      -84\n",
      "4      -21\n",
      "      ... \n",
      "348   -161\n",
      "349    -31\n",
      "350      0\n",
      "351     -1\n",
      "352      0\n",
      "Name: repayment_delay_days, Length: 353, dtype: int64\n",
      "         merchant_id  repayment_delay_days\n",
      "0       751583638317                   0.0\n",
      "1      1782234936129                  -1.0\n",
      "2     17057045800892                   0.0\n",
      "3     20432892828619                  -0.5\n",
      "4     23977383928717                 -54.0\n",
      "..               ...                   ...\n",
      "264  977922938114444                   0.0\n",
      "265  988580183586241                   0.0\n",
      "266  989840099406088                -162.0\n",
      "267  990771863905824                -155.5\n",
      "268  997267937584480                 -88.0\n",
      "\n",
      "[269 rows x 2 columns]\n"
     ]
    }
   ],
   "source": [
    "# 计算实际还款和理论还款之间的天数差异\n",
    "history_loan_data['repayment_delay_days'] = (history_loan_data['real_settle_date'] - history_loan_data['notional_settle_date']).dt.days\n",
    "# 商户平均每笔贷款实际还款和理论还款之间的天数差异\n",
    "mean_delay_days_per_merchant = history_loan_data.groupby('merchant_id')['repayment_delay_days'].mean().reset_index()\n",
    "\n",
    "print(history_loan_data['repayment_delay_days'])\n",
    "print(mean_delay_days_per_merchant)"
   ]
  },
  {
   "cell_type": "markdown",
   "id": "94066cd9-2ff1-4683-9307-5f1dd501e039",
   "metadata": {},
   "source": [
    "#### 3.2.3 商户对应的有逾期 30 天还款现象的次数（要通过计算理论结清日与实际结清日进行重新计算）、商户对应的没有出现逾期 30 天还款现象的次数（要通过计算理论结清日与实际结清日进行重新计算）"
   ]
  },
  {
   "cell_type": "code",
   "execution_count": 17,
   "id": "ca8faa3d-7319-439f-b162-1afe77dd2d14",
   "metadata": {},
   "outputs": [
    {
     "name": "stdout",
     "output_type": "stream",
     "text": [
      "历史有逾期 30 天还款现象的次数：\n",
      "          merchant_id  history_30_overdue_counts\n",
      "0       751583638317                          0\n",
      "1      1782234936129                          0\n",
      "2     17057045800892                          0\n",
      "3     20432892828619                          0\n",
      "4     23977383928717                          0\n",
      "..               ...                        ...\n",
      "264  977922938114444                          0\n",
      "265  988580183586241                          0\n",
      "266  989840099406088                          0\n",
      "267  990771863905824                          0\n",
      "268  997267937584480                          0\n",
      "\n",
      "[269 rows x 2 columns]\n",
      "\n",
      "历史没有出现逾期 30 天还款现象的次数：\n",
      " merchant_id\n",
      "751583638317       1\n",
      "1782234936129      1\n",
      "17057045800892     1\n",
      "20432892828619     2\n",
      "23977383928717     1\n",
      "                  ..\n",
      "977922938114444    1\n",
      "988580183586241    1\n",
      "989840099406088    1\n",
      "990771863905824    2\n",
      "997267937584480    1\n",
      "Length: 269, dtype: int64\n"
     ]
    }
   ],
   "source": [
    "# 计算历史有逾期30天还款现象的次数\n",
    "history_overdue_counts = (history_loan_data['real_settle_date'] - history_loan_data['notional_settle_date']).dt.days.ge(30).groupby(history_loan_data['merchant_id']).sum().reset_index(name='history_30_overdue_counts')\n",
    "# 计算历史没有出现逾期30天还款现象的次数\n",
    "history_no_overdue_counts = (history_loan_data['real_settle_date'] - history_loan_data['notional_settle_date']).dt.days.lt(30).groupby(history_loan_data['merchant_id']).sum()\n",
    "\n",
    "# 打印结果\n",
    "print(\"历史有逾期 30 天还款现象的次数：\\n\", history_overdue_counts)\n",
    "print(\"\\n历史没有出现逾期 30 天还款现象的次数：\\n\", history_no_overdue_counts)"
   ]
  },
  {
   "cell_type": "markdown",
   "id": "1674725b-a6f1-4c0b-8596-b83c6ab3f490",
   "metadata": {},
   "source": [
    "#### 3.2.5 商户逾期率与平均贷款期数的比值"
   ]
  },
  {
   "cell_type": "code",
   "execution_count": 18,
   "id": "48716142-20f8-48aa-bf13-8072f31c16cd",
   "metadata": {},
   "outputs": [
    {
     "name": "stdout",
     "output_type": "stream",
     "text": [
      "         merchant_id  loan_count  overdue_count  overdue_rate  \\\n",
      "0       751583638317           1            1.0           1.0   \n",
      "1      1782234936129           1            0.0           0.0   \n",
      "2     17057045800892           1            1.0           1.0   \n",
      "3     20432892828619           2            1.0           0.5   \n",
      "4     23977383928717           1            0.0           0.0   \n",
      "..               ...         ...            ...           ...   \n",
      "264  977922938114444           1            0.0           0.0   \n",
      "265  988580183586241           1            1.0           1.0   \n",
      "266  989840099406088           1            0.0           0.0   \n",
      "267  990771863905824           2            0.0           0.0   \n",
      "268  997267937584480           1            0.0           0.0   \n",
      "\n",
      "     non_overdue_count  non_overdue_rate  mean_loan_period  \\\n",
      "0                  0.0               0.0               6.0   \n",
      "1                  1.0               1.0               2.0   \n",
      "2                  0.0               0.0               6.0   \n",
      "3                  1.0               0.5               3.5   \n",
      "4                  1.0               1.0               6.0   \n",
      "..                 ...               ...               ...   \n",
      "264                1.0               1.0               3.0   \n",
      "265                0.0               0.0               6.0   \n",
      "266                1.0               1.0              12.0   \n",
      "267                2.0               1.0               6.0   \n",
      "268                1.0               1.0               3.0   \n",
      "\n",
      "     overdue_rate/mean_loan_period  \n",
      "0                         0.166667  \n",
      "1                         0.000000  \n",
      "2                         0.166667  \n",
      "3                         0.142857  \n",
      "4                         0.000000  \n",
      "..                             ...  \n",
      "264                       0.000000  \n",
      "265                       0.166667  \n",
      "266                       0.000000  \n",
      "267                       0.000000  \n",
      "268                       0.000000  \n",
      "\n",
      "[269 rows x 8 columns]\n"
     ]
    }
   ],
   "source": [
    "# 计算商户平均贷款期数\n",
    "mean_loan_period = history_loan_data.groupby('merchant_id')['lend_period'].mean().reset_index(name='mean_loan_period')\n",
    "history_merged_data = history_merged_data.merge(mean_loan_period, on='merchant_id', how='left')\n",
    "\n",
    "history_merged_data['overdue_rate/mean_loan_period'] = history_merged_data['overdue_rate'] / history_merged_data['mean_loan_period']\n",
    "print(history_merged_data)"
   ]
  },
  {
   "cell_type": "markdown",
   "id": "c43c972b-e4ce-47a1-8e2f-66d3c5923bbd",
   "metadata": {},
   "source": [
    "#### 3.2.6 商户历史贷款总金额、历史平均贷款期数"
   ]
  },
  {
   "cell_type": "code",
   "execution_count": 19,
   "id": "cae49bc4-0336-41a4-8780-d5f0bb614bf3",
   "metadata": {},
   "outputs": [
    {
     "name": "stdout",
     "output_type": "stream",
     "text": [
      "商户历史贷款总金额：\n",
      "          merchant_id  history_total_loan_amount\n",
      "0       751583638317                     8000.0\n",
      "1      1782234936129                    20000.0\n",
      "2     17057045800892                     3000.0\n",
      "3     20432892828619                    53000.0\n",
      "4     23977383928717                     5000.0\n",
      "..               ...                        ...\n",
      "264  977922938114444                   100000.0\n",
      "265  988580183586241                    10000.0\n",
      "266  989840099406088                    19000.0\n",
      "267  990771863905824                     8000.0\n",
      "268  997267937584480                    16000.0\n",
      "\n",
      "[269 rows x 2 columns]\n",
      "\n",
      "商户历史平均贷款期数：\n",
      " merchant_id\n",
      "751583638317        6.0\n",
      "1782234936129       2.0\n",
      "17057045800892      6.0\n",
      "20432892828619      3.5\n",
      "23977383928717      6.0\n",
      "                   ... \n",
      "977922938114444     3.0\n",
      "988580183586241     6.0\n",
      "989840099406088    12.0\n",
      "990771863905824     6.0\n",
      "997267937584480     3.0\n",
      "Name: lend_period, Length: 269, dtype: float64\n"
     ]
    }
   ],
   "source": [
    "# 计算商户历史贷款总金额\n",
    "history_total_loan_amount = history_loan_data.groupby('merchant_id')['lend_amount'].sum().reset_index(name='history_total_loan_amount')\n",
    "\n",
    "# 计算商户历史平均贷款期数\n",
    "history_mean_loan_period = history_loan_data.groupby('merchant_id')['lend_period'].mean()\n",
    "\n",
    "# 打印结果\n",
    "print(\"商户历史贷款总金额：\\n\", history_total_loan_amount)\n",
    "print(\"\\n商户历史平均贷款期数：\\n\", history_mean_loan_period)"
   ]
  },
  {
   "cell_type": "markdown",
   "id": "98d817c0-8280-42c4-9e68-48744fb404cc",
   "metadata": {},
   "source": [
    "#### 3.2.7 还款金额统计特征：平均值、总额、最大值、最小值等"
   ]
  },
  {
   "cell_type": "code",
   "execution_count": 20,
   "id": "153c6488-48e6-4037-9ce8-c6cd4c2659a4",
   "metadata": {},
   "outputs": [
    {
     "name": "stdout",
     "output_type": "stream",
     "text": [
      "历史还款金额统计特征\n",
      ": count       353.000000\n",
      "mean      17371.104816\n",
      "std       22160.467544\n",
      "min        1000.000000\n",
      "25%        5000.000000\n",
      "50%       10000.000000\n",
      "75%       20000.000000\n",
      "max      200000.000000\n",
      "Name: lend_amount, dtype: float64\n"
     ]
    }
   ],
   "source": [
    "# 计算还款金额和历史还款金额的统计特征\n",
    "history_repayment_stats = history_loan_data['lend_amount'].describe()\n",
    "\n",
    "# 打印结果\n",
    "print(\"历史还款金额统计特征\\n:\",history_repayment_stats)"
   ]
  },
  {
   "cell_type": "markdown",
   "id": "2ce2d7c1-5bef-4b96-bf41-793f7c43c588",
   "metadata": {},
   "source": [
    "## 4 数据整合 "
   ]
  },
  {
   "cell_type": "code",
   "execution_count": 21,
   "id": "9ed98f54-4161-452a-95b4-2abf94d9445e",
   "metadata": {},
   "outputs": [
    {
     "name": "stdout",
     "output_type": "stream",
     "text": [
      "<class 'pandas.core.frame.DataFrame'>\n",
      "RangeIndex: 1200 entries, 0 to 1199\n",
      "Data columns (total 11 columns):\n",
      " #   Column                          Non-Null Count  Dtype  \n",
      "---  ------                          --------------  -----  \n",
      " 0   apply_id                        1200 non-null   int64  \n",
      " 1   merchant_id                     1200 non-null   int64  \n",
      " 2   lend_amount                     1200 non-null   float64\n",
      " 3   lend_period                     1200 non-null   int64  \n",
      " 4   is_30days_overdue               1200 non-null   int64  \n",
      " 5   mean                            1106 non-null   float64\n",
      " 6   transaction_amount_per_day_std  1076 non-null   float64\n",
      " 7   transaction_count_per_day       1106 non-null   float64\n",
      " 8   red_envelope_per_day            1106 non-null   float64\n",
      " 9   huabei_ratio                    1106 non-null   float64\n",
      " 10  credit_card_ratio               1106 non-null   float64\n",
      "dtypes: float64(7), int64(4)\n",
      "memory usage: 103.3 KB\n",
      "None\n"
     ]
    }
   ],
   "source": [
    "# 流水数据\n",
    "loan_data_train['apply_date'] = pd.to_datetime(loan_data_train['apply_date'])\n",
    "# 商户金额均值（每日\n",
    "df_train = loan_data_train.merge(transaction_amount_statistics_per_merchant_per_day[['merchant_id', 'apply_date', 'mean']], on=['merchant_id', 'apply_date'], how='left')\n",
    "# 商户金额标准差（每日\n",
    "df_train = df_train.merge(merchant_activity_per_day, on=['merchant_id', 'apply_date'], how='left')\n",
    "# 商户平均每日交易数\n",
    "df_train = df_train.merge(transaction_count_per_day_per_merchant, on=['merchant_id', 'apply_date'], how='left')\n",
    "# 平均每日红包使用金额\n",
    "df_train = df_train.merge(merchant_red_envelope_per_day, on=['merchant_id', 'apply_date'], how='left')\n",
    "# 花呗/信用卡支付占该商铺总支付金额的占比\n",
    "df_train = df_train.merge(huabei_payment_ratio_per_merchant, on=['merchant_id', 'apply_date'], how='left')\n",
    "df_train = df_train.merge(credit_card_payment_ratio_per_merchant, on=['merchant_id', 'apply_date'], how='left')\n",
    "df_train = df_train.select_dtypes(include=['float64', 'int64'])\n",
    "print(df_train.info())"
   ]
  },
  {
   "cell_type": "markdown",
   "id": "d8a8563d-7c57-46aa-b6b6-c03091a00e89",
   "metadata": {},
   "source": [
    "### 4.1 对于商铺流水数据，使用knn插补法对空缺值进行补全"
   ]
  },
  {
   "cell_type": "code",
   "execution_count": 22,
   "id": "e920570d-932a-4f04-9357-338652061272",
   "metadata": {},
   "outputs": [
    {
     "name": "stdout",
     "output_type": "stream",
     "text": [
      "[{'K': 1, 'RMSE': 3570198.0909116273}, {'K': 3, 'RMSE': 3531856.7963006985}, {'K': 5, 'RMSE': 3516003.165635926}, {'K': 7, 'RMSE': 3421932.8791541606}, {'K': 9, 'RMSE': 3470486.1463334374}, {'K': 11, 'RMSE': 3395717.2506384137}]\n"
     ]
    }
   ],
   "source": [
    "#使用KNN插补对空缺值进行填补\n",
    "from sklearn.impute import KNNImputer\n",
    "from sklearn.model_selection import train_test_split\n",
    "from sklearn.ensemble import RandomForestRegressor\n",
    "from sklearn.metrics import mean_squared_error\n",
    "\n",
    "df = df_train.copy()\n",
    "df = df.drop(columns=['apply_id', 'merchant_id'])\n",
    "\n",
    "def optimize_k(data, target):\n",
    "    errors = []\n",
    "    for k in range(1, 12, 2):\n",
    "        imputer = KNNImputer(n_neighbors=k)\n",
    "        imputed = imputer.fit_transform(df)\n",
    "        df_imputed = pd.DataFrame(imputed, columns=df.columns)\n",
    "        \n",
    "        X = df_imputed.drop(target, axis=1)\n",
    "        y = df_imputed[target]\n",
    "        X_train, X_test, y_train, y_test = train_test_split(X, y, test_size=0.2, random_state=42)\n",
    "\n",
    "        model = RandomForestRegressor()\n",
    "        model.fit(X_train, y_train)\n",
    "        preds = model.predict(X_test)\n",
    "        error = mean_squared_error(y_test, preds)\n",
    "        errors.append({'K': k, 'RMSE': error})\n",
    "        \n",
    "    return errors\n",
    "\n",
    "k_errors = optimize_k(data=df, target=['mean', 'transaction_amount_per_day_std', \n",
    "                                       'transaction_count_per_day', 'red_envelope_per_day', 'huabei_ratio', 'credit_card_ratio'])\n",
    "print(k_errors)"
   ]
  },
  {
   "cell_type": "code",
   "execution_count": 23,
   "id": "d0705b6a-a00f-40eb-b1c3-af4916c406b0",
   "metadata": {},
   "outputs": [
    {
     "name": "stdout",
     "output_type": "stream",
     "text": [
      "<class 'pandas.core.frame.DataFrame'>\n",
      "RangeIndex: 1200 entries, 0 to 1199\n",
      "Data columns (total 9 columns):\n",
      " #   Column                          Non-Null Count  Dtype  \n",
      "---  ------                          --------------  -----  \n",
      " 0   lend_amount                     1200 non-null   float64\n",
      " 1   lend_period                     1200 non-null   float64\n",
      " 2   is_30days_overdue               1200 non-null   float64\n",
      " 3   mean                            1200 non-null   float64\n",
      " 4   transaction_amount_per_day_std  1200 non-null   float64\n",
      " 5   transaction_count_per_day       1200 non-null   float64\n",
      " 6   red_envelope_per_day            1200 non-null   float64\n",
      " 7   huabei_ratio                    1200 non-null   float64\n",
      " 8   credit_card_ratio               1200 non-null   float64\n",
      "dtypes: float64(9)\n",
      "memory usage: 84.5 KB\n",
      "None\n"
     ]
    }
   ],
   "source": [
    "#使用KNN插补对空缺值进行填补\n",
    "imputer = KNNImputer(n_neighbors=11)\n",
    "imputed = imputer.fit_transform(df)\n",
    "df_imputed = pd.DataFrame(imputed, columns=df.columns)\n",
    "\n",
    "print(df_imputed.info())"
   ]
  },
  {
   "cell_type": "code",
   "execution_count": 24,
   "id": "fc9f2252-8046-4216-afb4-8e5ef44b9cd4",
   "metadata": {},
   "outputs": [],
   "source": [
    "df_train[['lend_amount', 'lend_period', 'is_30days_overdue','mean', 'transaction_amount_per_day_std', 'transaction_count_per_day', 'red_envelope_per_day', 'huabei_ratio', 'credit_card_ratio']] = df_imputed"
   ]
  },
  {
   "cell_type": "code",
   "execution_count": 25,
   "id": "3ad08b9f-ded8-4ed2-92c6-fa487924c934",
   "metadata": {},
   "outputs": [
    {
     "name": "stdout",
     "output_type": "stream",
     "text": [
      "<class 'pandas.core.frame.DataFrame'>\n",
      "RangeIndex: 1200 entries, 0 to 1199\n",
      "Data columns (total 11 columns):\n",
      " #   Column                          Non-Null Count  Dtype  \n",
      "---  ------                          --------------  -----  \n",
      " 0   apply_id                        1200 non-null   int64  \n",
      " 1   merchant_id                     1200 non-null   int64  \n",
      " 2   lend_amount                     1200 non-null   float64\n",
      " 3   lend_period                     1200 non-null   float64\n",
      " 4   is_30days_overdue               1200 non-null   float64\n",
      " 5   mean                            1200 non-null   float64\n",
      " 6   transaction_amount_per_day_std  1200 non-null   float64\n",
      " 7   transaction_count_per_day       1200 non-null   float64\n",
      " 8   red_envelope_per_day            1200 non-null   float64\n",
      " 9   huabei_ratio                    1200 non-null   float64\n",
      " 10  credit_card_ratio               1200 non-null   float64\n",
      "dtypes: float64(9), int64(2)\n",
      "memory usage: 103.3 KB\n"
     ]
    }
   ],
   "source": [
    "df_train.info()"
   ]
  },
  {
   "cell_type": "code",
   "execution_count": 26,
   "id": "8b7b20b8-5a96-4d1d-a5cd-66456ff64faa",
   "metadata": {},
   "outputs": [
    {
     "name": "stdout",
     "output_type": "stream",
     "text": [
      "      apply_id      merchant_id  lend_amount  lend_period  is_30days_overdue  \\\n",
      "0     53143959  408215340609460      50000.0         12.0                0.0   \n",
      "1     52485335  869864018479063      50000.0         12.0                0.0   \n",
      "2     53143906  126255549518741      20000.0          6.0                1.0   \n",
      "3     49518258  809348934425429      50000.0          6.0                0.0   \n",
      "4     52154538  682028853409728      10000.0         12.0                1.0   \n",
      "...        ...              ...          ...          ...                ...   \n",
      "1195  49714941  496941184209173       2000.0         12.0                1.0   \n",
      "1196  51775125  858199610559714      37000.0          3.0                1.0   \n",
      "1197  52480186  239748687530142       8000.0          9.0                1.0   \n",
      "1198  52849275  869789282257853       6000.0          9.0                0.0   \n",
      "1199  51179154  577445869192447      12000.0          4.0                0.0   \n",
      "\n",
      "             mean  transaction_amount_per_day_std  transaction_count_per_day  \\\n",
      "0     2354.121143                     1129.133005                 153.200000   \n",
      "1     1058.780800                     1046.295444                  86.680000   \n",
      "2     1010.440000                     1432.082831                  34.000000   \n",
      "3     5903.763095                     2888.598066                  19.595238   \n",
      "4      240.790000                      690.554608                   3.685714   \n",
      "...           ...                             ...                        ...   \n",
      "1195  1011.143542                     1369.745481                   7.395833   \n",
      "1196    93.404000                      207.089548                   3.000000   \n",
      "1197  3704.985000                     1266.096340                  24.692308   \n",
      "1198   300.853636                      622.613572                   5.363636   \n",
      "1199   244.810741                      371.191387                   1.851852   \n",
      "\n",
      "      red_envelope_per_day  huabei_ratio  credit_card_ratio  loan_count  \\\n",
      "0                 5.956286      0.254317           0.082318         0.0   \n",
      "1                11.816800      0.115189           0.092095         0.0   \n",
      "2                 4.947368      0.053532           0.364004         0.0   \n",
      "3                29.521429      0.053472           0.063116         0.0   \n",
      "4                 0.557143      0.558666           0.101015         0.0   \n",
      "...                    ...           ...                ...         ...   \n",
      "1195              6.250000      0.024050           0.031512         0.0   \n",
      "1196              0.000000      0.063309           0.264371         1.0   \n",
      "1197             37.192308      0.035884           0.159770         0.0   \n",
      "1198              0.000000      0.246471           0.669005         0.0   \n",
      "1199              0.000000      0.111651           0.348266         3.0   \n",
      "\n",
      "      repayment_delay_days  history_30_overdue_counts  \\\n",
      "0                 0.000000                        0.0   \n",
      "1                 0.000000                        0.0   \n",
      "2                 0.000000                        0.0   \n",
      "3                 0.000000                        0.0   \n",
      "4                 0.000000                        0.0   \n",
      "...                    ...                        ...   \n",
      "1195              0.000000                        0.0   \n",
      "1196              0.000000                        0.0   \n",
      "1197              0.000000                        0.0   \n",
      "1198              0.000000                        0.0   \n",
      "1199              0.333333                        0.0   \n",
      "\n",
      "      history_total_loan_amount  overdue_rate/mean_loan_period  \n",
      "0                           0.0                       0.000000  \n",
      "1                           0.0                       0.000000  \n",
      "2                           0.0                       0.000000  \n",
      "3                           0.0                       0.000000  \n",
      "4                           0.0                       0.000000  \n",
      "...                         ...                            ...  \n",
      "1195                        0.0                       0.000000  \n",
      "1196                    50000.0                       0.000000  \n",
      "1197                        0.0                       0.000000  \n",
      "1198                        0.0                       0.000000  \n",
      "1199                    24000.0                       0.142857  \n",
      "\n",
      "[1200 rows x 16 columns]\n"
     ]
    }
   ],
   "source": [
    "# 历史贷款数据\n",
    "# 贷款人历史贷款次数\n",
    "df_train = df_train.merge(loan_count_per_borrower, on='merchant_id', how='left')\n",
    "# 贷款人每笔贷款是否逾期/提前还款\n",
    "df_train = df_train.merge(mean_delay_days_per_merchant, on='merchant_id', how='left')\n",
    "# 历史30天逾期未还款的次数\n",
    "df_train = df_train.merge(history_overdue_counts, on='merchant_id', how='left')\n",
    "# 历史30天逾期还款率\n",
    "#df_train = df_train.merge(history_merged_data[['merchant_id', 'overdue_rate']], on='merchant_id', how='left')\n",
    "# 历史贷款总金额\n",
    "df_train = df_train.merge(history_total_loan_amount, on='merchant_id', how='left')\n",
    "# 历史逾期率/商户平均贷款期数\n",
    "df_train = df_train.merge(history_merged_data[['merchant_id', 'overdue_rate/mean_loan_period']], on='merchant_id', how='left')\n",
    "#print(df_train)\n",
    "#print(df_train.isna().sum())\n",
    "\n",
    "#df_train = loan_data_train.copy()\n",
    "#print(df_train)\n",
    "\n",
    "df_train[['loan_count', 'repayment_delay_days', 'history_30_overdue_counts', 'history_total_loan_amount', 'overdue_rate/mean_loan_period']] = df_train[['loan_count', 'repayment_delay_days', 'history_30_overdue_counts', 'history_total_loan_amount', 'overdue_rate/mean_loan_period']].fillna(0)\n",
    "print(df_train)"
   ]
  },
  {
   "cell_type": "code",
   "execution_count": 27,
   "id": "67ecfd8a-7897-4b2d-9e2f-2ae37e73c91f",
   "metadata": {},
   "outputs": [
    {
     "name": "stdout",
     "output_type": "stream",
     "text": [
      "<class 'pandas.core.frame.DataFrame'>\n",
      "RangeIndex: 1200 entries, 0 to 1199\n",
      "Data columns (total 16 columns):\n",
      " #   Column                          Non-Null Count  Dtype  \n",
      "---  ------                          --------------  -----  \n",
      " 0   apply_id                        1200 non-null   int64  \n",
      " 1   merchant_id                     1200 non-null   int64  \n",
      " 2   lend_amount                     1200 non-null   float64\n",
      " 3   lend_period                     1200 non-null   float64\n",
      " 4   is_30days_overdue               1200 non-null   float64\n",
      " 5   mean                            1200 non-null   float64\n",
      " 6   transaction_amount_per_day_std  1200 non-null   float64\n",
      " 7   transaction_count_per_day       1200 non-null   float64\n",
      " 8   red_envelope_per_day            1200 non-null   float64\n",
      " 9   huabei_ratio                    1200 non-null   float64\n",
      " 10  credit_card_ratio               1200 non-null   float64\n",
      " 11  loan_count                      1200 non-null   float64\n",
      " 12  repayment_delay_days            1200 non-null   float64\n",
      " 13  history_30_overdue_counts       1200 non-null   float64\n",
      " 14  history_total_loan_amount       1200 non-null   float64\n",
      " 15  overdue_rate/mean_loan_period   1200 non-null   float64\n",
      "dtypes: float64(14), int64(2)\n",
      "memory usage: 150.1 KB\n",
      "None\n"
     ]
    }
   ],
   "source": [
    "print(df_train.info())"
   ]
  },
  {
   "cell_type": "code",
   "execution_count": 28,
   "id": "b7d5ff3e-fcf0-4ba8-b016-9a60860db95c",
   "metadata": {},
   "outputs": [
    {
     "name": "stdout",
     "output_type": "stream",
     "text": [
      "1200\n",
      "1200\n",
      "[0. 1.]\n"
     ]
    }
   ],
   "source": [
    "X = df_train.drop(columns=['is_30days_overdue', 'apply_id', 'merchant_id'])\n",
    "X = X.select_dtypes(include=['float64', 'int64'])\n",
    "y = df_train['is_30days_overdue']\n",
    "print(X.shape[0])\n",
    "print(y.shape[0])\n",
    "print(y.unique())"
   ]
  },
  {
   "cell_type": "code",
   "execution_count": 29,
   "id": "bde2904e-456c-44cf-b410-724c41e79d98",
   "metadata": {},
   "outputs": [
    {
     "name": "stdout",
     "output_type": "stream",
     "text": [
      "      lend_amount  lend_period      mean  transaction_amount_per_day_std  \\\n",
      "0        1.390731     1.150627  0.216523                       -0.186590   \n",
      "1        1.390731     1.150627 -0.263699                       -0.224885   \n",
      "2        0.004966    -0.396146 -0.281620                       -0.046540   \n",
      "3        1.390731    -0.396146  1.532482                        0.626787   \n",
      "4       -0.456956     1.150627 -0.566953                       -0.389339   \n",
      "...           ...          ...       ...                             ...   \n",
      "1195    -0.826493     1.150627 -0.281360                       -0.075358   \n",
      "1196     0.790232    -1.169532 -0.621593                       -0.612838   \n",
      "1197    -0.549340     0.377241  0.717328                       -0.123274   \n",
      "1198    -0.641725     0.377241 -0.544685                       -0.420747   \n",
      "1199    -0.364572    -0.911736 -0.565462                       -0.536976   \n",
      "\n",
      "      transaction_count_per_day  red_envelope_per_day  huabei_ratio  \\\n",
      "0                      1.644792              0.171715      0.390904   \n",
      "1                      0.731997              0.634813     -0.209390   \n",
      "2                      0.009116              0.091990     -0.475421   \n",
      "3                     -0.188548              2.033836     -0.475679   \n",
      "4                     -0.406861             -0.254926      1.704080   \n",
      "...                         ...                   ...           ...   \n",
      "1195                  -0.355950              0.194924     -0.602629   \n",
      "1196                  -0.416270             -0.298952     -0.433236   \n",
      "1197                  -0.118606              2.639990     -0.551567   \n",
      "1198                  -0.383836             -0.298952      0.357053   \n",
      "1199                  -0.432025             -0.298952     -0.224656   \n",
      "\n",
      "      credit_card_ratio  loan_count  repayment_delay_days  \\\n",
      "0             -0.718511   -0.389475              0.236309   \n",
      "1             -0.687611   -0.389475              0.236309   \n",
      "2              0.171737   -0.389475              0.236309   \n",
      "3             -0.779197   -0.389475              0.236309   \n",
      "4             -0.659420   -0.389475              0.236309   \n",
      "...                 ...         ...                   ...   \n",
      "1195          -0.879078   -0.389475              0.236309   \n",
      "1196          -0.143145    1.401213              0.236309   \n",
      "1197          -0.473731   -0.389475              0.236309   \n",
      "1198           1.135670   -0.389475              0.236309   \n",
      "1199           0.121998    4.982589              0.245439   \n",
      "\n",
      "      history_30_overdue_counts  history_total_loan_amount  \\\n",
      "0                           0.0                  -0.210336   \n",
      "1                           0.0                  -0.210336   \n",
      "2                           0.0                  -0.210336   \n",
      "3                           0.0                  -0.210336   \n",
      "4                           0.0                  -0.210336   \n",
      "...                         ...                        ...   \n",
      "1195                        0.0                  -0.210336   \n",
      "1196                        0.0                   2.648784   \n",
      "1197                        0.0                  -0.210336   \n",
      "1198                        0.0                  -0.210336   \n",
      "1199                        0.0                   1.162042   \n",
      "\n",
      "      overdue_rate/mean_loan_period  \n",
      "0                         -0.282003  \n",
      "1                         -0.282003  \n",
      "2                         -0.282003  \n",
      "3                         -0.282003  \n",
      "4                         -0.282003  \n",
      "...                             ...  \n",
      "1195                      -0.282003  \n",
      "1196                      -0.282003  \n",
      "1197                      -0.282003  \n",
      "1198                      -0.282003  \n",
      "1199                       1.986543  \n",
      "\n",
      "[1200 rows x 13 columns]\n"
     ]
    }
   ],
   "source": [
    "from sklearn.preprocessing import StandardScaler\n",
    "\n",
    "# 创建一个标准化的对象\n",
    "scaler = StandardScaler()\n",
    "\n",
    "# 对DataFrame的每一列进行标准化\n",
    "normalized_X = X.copy()  # 复制原始DataFrame\n",
    "normalized_X[X.columns] = scaler.fit_transform(X[X.columns])\n",
    "\n",
    "# 输出归一化后的DataFrame\n",
    "print(normalized_X)"
   ]
  },
  {
   "cell_type": "code",
   "execution_count": 30,
   "id": "99ea7289-0eb4-426a-b406-feab1cbba6ff",
   "metadata": {},
   "outputs": [
    {
     "data": {
      "text/plain": [
       "<Axes: >"
      ]
     },
     "execution_count": 30,
     "metadata": {},
     "output_type": "execute_result"
    },
    {
     "data": {
      "image/png": "[encoded data removed]",
      "text/plain": [
       "<Figure size 640x480 with 2 Axes>"
      ]
     },
     "metadata": {},
     "output_type": "display_data"
    }
   ],
   "source": [
    "import seaborn as sns\n",
    "import matplotlib.pyplot as plt\n",
    "\n",
    "# 选择数值型的列\n",
    "numerical_columns = df_train.select_dtypes(include=['float64', 'int64'])\n",
    "# 计算数据相关性矩阵\n",
    "correlation_matrix = numerical_columns.corr()\n",
    "# 热力图\n",
    "sns.heatmap(correlation_matrix, square=False, linewidths=.5, annot=True)"
   ]
  },
  {
   "cell_type": "markdown",
   "id": "90ed6629-8e5b-44a6-b09f-a3291d92458b",
   "metadata": {},
   "source": [
    "## 5 模型引入"
   ]
  },
  {
   "cell_type": "markdown",
   "id": "f4d0f467-c4df-48c0-a5b8-ba3f224fa00a",
   "metadata": {},
   "source": [
    "### 5.1 随机森林模型"
   ]
  },
  {
   "cell_type": "markdown",
   "id": "bf358dd1-8b88-4b9d-9110-1099be3ba2f5",
   "metadata": {},
   "source": [
    "由于训练集中包含缺失值，决策树可以处理缺失值的特征并进行预测。随机森林是一种集成学习方法，它通过构建多个决策树来进行预测，然后通过取这些树的输出的平均值（回归问题）或投票（分类问题）来提高模型的准确性和鲁棒性。随机森林具有很强的泛化能力，对于复杂的数据集和高维特征空间也表现良好。"
   ]
  },
  {
   "cell_type": "code",
   "execution_count": 31,
   "id": "dadf44f0-497a-49e3-ba99-85ade4c8b31d",
   "metadata": {},
   "outputs": [],
   "source": [
    "from sklearn.ensemble import RandomForestClassifier\n",
    "from sklearn.model_selection import train_test_split\n",
    "from sklearn.metrics import accuracy_score, classification_report\n",
    "from sklearn.model_selection import GridSearchCV\n",
    "import numpy as np"
   ]
  },
  {
   "cell_type": "code",
   "execution_count": 32,
   "id": "605afdb6-96fe-421c-8b71-df76013fe39a",
   "metadata": {},
   "outputs": [],
   "source": [
    "# 数据划分，将20%的数据用作验证集\n",
    "X_train, X_val, y_train, y_val = train_test_split(normalized_X, y, test_size=0.2, random_state = 43)"
   ]
  },
  {
   "cell_type": "code",
   "execution_count": 33,
   "id": "3beb8683-0966-43cb-aa67-b0c72dfd8241",
   "metadata": {},
   "outputs": [
    {
     "name": "stdout",
     "output_type": "stream",
     "text": [
      "最佳参数: {'max_depth': 10, 'min_samples_leaf': 8, 'min_samples_split': 5, 'n_estimators': 100}\n",
      "最佳得分: 0.7218749999999999\n"
     ]
    }
   ],
   "source": [
    "classifier = RandomForestClassifier(random_state=43)\n",
    "# 定义参数网格\n",
    "param_grid = {\n",
    "    'n_estimators': [50, 100, 200],\n",
    "    'max_depth': [None, 10, 20],\n",
    "    'min_samples_split': [5, 10, 20],\n",
    "    'min_samples_leaf': [4, 8, 10]\n",
    "}\n",
    "\n",
    "# 创建网格搜索对象\n",
    "grid_search = GridSearchCV(estimator=classifier, param_grid=param_grid, cv=5, scoring='accuracy')\n",
    "\n",
    "# 在训练数据上进行网格搜索\n",
    "grid_search.fit(X_train, y_train)\n",
    "\n",
    "# 输出最佳参数和最佳得分\n",
    "print(\"最佳参数:\", grid_search.best_params_)\n",
    "print(\"最佳得分:\", grid_search.best_score_)"
   ]
  },
  {
   "cell_type": "code",
   "execution_count": 34,
   "id": "480990c9-1e65-4a73-9eec-3f55edf7ceca",
   "metadata": {},
   "outputs": [
    {
     "name": "stdout",
     "output_type": "stream",
     "text": [
      "Accuracy: 0.7083\n",
      "Classification Report:\n",
      "               precision    recall  f1-score   support\n",
      "\n",
      "         0.0       0.76      0.80      0.78       154\n",
      "         1.0       0.60      0.55      0.57        86\n",
      "\n",
      "    accuracy                           0.71       240\n",
      "   macro avg       0.68      0.67      0.68       240\n",
      "weighted avg       0.70      0.71      0.70       240\n",
      "\n"
     ]
    },
    {
     "data": {
      "image/png": "[encoded data removed]",
      "text/plain": [
       "<Figure size 1000x600 with 1 Axes>"
      ]
     },
     "metadata": {},
     "output_type": "display_data"
    }
   ],
   "source": [
    "best_classifier_RF = RandomForestClassifier(max_depth=10, \n",
    "                                         min_samples_leaf=8, \n",
    "                                         min_samples_split=5, \n",
    "                                         n_estimators=100,\n",
    "                                         random_state=43\n",
    "                                        )\n",
    "# 训练模型\n",
    "best_classifier_RF.fit(X_train, y_train)\n",
    " \n",
    "# 在验证集上进行预测\n",
    "y_pred = best_classifier_RF.predict(X_val)\n",
    " \n",
    "# 评估模型性能\n",
    "accuracy = accuracy_score(y_val, y_pred)\n",
    "print(f'Accuracy: {accuracy:.4f}')\n",
    " \n",
    "# 输出更详细的分类报告\n",
    "print('Classification Report:\\n', classification_report(y_val, y_pred))\n",
    "\n",
    "\n",
    "# 特征重要性可视化\n",
    "# 获取特征重要性得分\n",
    "feature_importances = best_classifier_RF.feature_importances_\n",
    "\n",
    "# 对特征重要性得分进行排序\n",
    "feature_names = list(X.columns)\n",
    "feature_importances_df = pd.DataFrame({'feature': feature_names, 'importance': feature_importances})\n",
    "feature_importances_df = feature_importances_df.sort_values('importance', ascending=False)\n",
    "\n",
    "colors = plt.cm.viridis(np.linspace(0, 1, len(feature_names)))\n",
    "fig, ax = plt.subplots(figsize=(10, 6))\n",
    "ax.barh(feature_importances_df['feature'], feature_importances_df['importance'], color=colors)\n",
    "ax.invert_yaxis()  # 翻转y轴，使得最大的特征在最上面\n",
    "ax.set_xlabel('features', fontsize=12)\n",
    "ax.set_title('features_importance',fontsize=16)\n",
    "for i, v in enumerate(feature_importances_df['importance']):\n",
    "    ax.text(v + 0.01, i, str(round(v, 3)), va='center', fontname='Times New Roman', fontsize=10)\n",
    "\n",
    "plt.show()"
   ]
  },
  {
   "cell_type": "markdown",
   "id": "701ef136-9abb-48ba-ae8e-1b5a0a43f720",
   "metadata": {},
   "source": [
    "### 5.2 XGBOOST模型"
   ]
  },
  {
   "cell_type": "code",
   "execution_count": 35,
   "id": "39eeee4d-95b3-4a39-b74a-bd7cfed0ec83",
   "metadata": {},
   "outputs": [],
   "source": [
    "import xgboost as xgb"
   ]
  },
  {
   "cell_type": "code",
   "execution_count": 36,
   "id": "e830c66e-ac69-475a-bfe1-516253ce18dc",
   "metadata": {},
   "outputs": [
    {
     "name": "stdout",
     "output_type": "stream",
     "text": [
      "最佳参数: {'learning_rate': 0.1, 'max_depth': 3, 'n_estimators': 100, 'reg_alpha': 0.01, 'reg_lambda': 0.1}\n",
      "最佳得分: 0.7062499999999999\n"
     ]
    }
   ],
   "source": [
    "# 定义参数网格\n",
    "param_grid = {\n",
    "    'n_estimators': [100, 200, 300],\n",
    "    'max_depth': [3, 5, 7],\n",
    "    'learning_rate': [0.01, 0.1, 0.35],\n",
    "    'reg_alpha': [0, 0.1, 0.01, 0.001],\n",
    "    'reg_lambda': [0, 0.1, 0.01, 0.001]\n",
    "}\n",
    "\n",
    "# 创建模型对象\n",
    "model = xgb.XGBClassifier()\n",
    "\n",
    "# 创建网格搜索对象\n",
    "grid_search = GridSearchCV(estimator=model, param_grid=param_grid, cv=3, scoring='accuracy')\n",
    "\n",
    "# 在训练数据上进行网格搜索\n",
    "grid_search.fit(X_train, y_train)\n",
    "\n",
    "# 输出最佳参数和最佳得分\n",
    "print(\"最佳参数:\", grid_search.best_params_)\n",
    "print(\"最佳得分:\", grid_search.best_score_)"
   ]
  },
  {
   "cell_type": "code",
   "execution_count": 37,
   "id": "7bbd77c0-04ee-4ef6-af5f-32c5261c7434",
   "metadata": {},
   "outputs": [
    {
     "name": "stdout",
     "output_type": "stream",
     "text": [
      "Accuracy: 0.6958\n",
      "Classification Report:\n",
      "               precision    recall  f1-score   support\n",
      "\n",
      "         0.0       0.74      0.81      0.77       154\n",
      "         1.0       0.59      0.49      0.54        86\n",
      "\n",
      "    accuracy                           0.70       240\n",
      "   macro avg       0.67      0.65      0.65       240\n",
      "weighted avg       0.69      0.70      0.69       240\n",
      "\n"
     ]
    },
    {
     "data": {
      "image/png": "[encoded data removed]",
      "text/plain": [
       "<Figure size 1000x600 with 1 Axes>"
      ]
     },
     "metadata": {},
     "output_type": "display_data"
    }
   ],
   "source": [
    "best_classifier_XGB = xgb.XGBClassifier(learning_rate=0.1, \n",
    "                                    max_depth=3, \n",
    "                                    n_estimators=100, \n",
    "                                    reg_alpha=0.01, \n",
    "                                    reg_lambda=0.1,\n",
    "                                    random_state=43\n",
    "                                   )\n",
    "# 训练模型\n",
    "best_classifier_XGB.fit(X_train, y_train)\n",
    " \n",
    "# 在验证集上进行预测\n",
    "y_pred = best_classifier_XGB.predict(X_val)\n",
    " \n",
    "# 评估模型性能\n",
    "accuracy = accuracy_score(y_val, y_pred)\n",
    "print(f'Accuracy: {accuracy:.4f}')\n",
    " \n",
    "# 输出更详细的分类报告\n",
    "print('Classification Report:\\n', classification_report(y_val, y_pred))\n",
    "\n",
    "# 获取特征重要性\n",
    "importance = best_classifier_XGB.feature_importances_\n",
    "# 将特征重要性与特征名称对应起来\n",
    "feature_names = X_train.columns\n",
    "feature_importance = pd.Series(importance, index=feature_names)\n",
    "# 对特征重要性进行排序\n",
    "feature_importance_sorted = feature_importance.sort_values(ascending=False)\n",
    "\n",
    "# 可视化特征重要性\n",
    "plt.figure(figsize=(10, 6))\n",
    "feature_importance_sorted.plot(kind='bar')\n",
    "plt.title('XGBoost Feature Importance')\n",
    "plt.xlabel('Features')\n",
    "plt.ylabel('Importance')\n",
    "plt.show()"
   ]
  },
  {
   "cell_type": "markdown",
   "id": "80592465-38a3-4c70-9f43-da2d60dde1be",
   "metadata": {},
   "source": [
    "### 5.3 MLP模型"
   ]
  },
  {
   "cell_type": "code",
   "execution_count": 38,
   "id": "5578d298-7608-48f2-9460-58408259271a",
   "metadata": {},
   "outputs": [],
   "source": [
    "from sklearn.neural_network import MLPClassifier\n",
    "from sklearn.metrics import accuracy_score, classification_report, confusion_matrix"
   ]
  },
  {
   "cell_type": "code",
   "execution_count": 39,
   "id": "bbe3f7b2-bf4f-43b5-b979-117195ded05d",
   "metadata": {},
   "outputs": [
    {
     "name": "stdout",
     "output_type": "stream",
     "text": [
      "[[117  37]\n",
      " [ 39  47]]\n",
      "              precision    recall  f1-score   support\n",
      "\n",
      "         0.0       0.75      0.76      0.75       154\n",
      "         1.0       0.56      0.55      0.55        86\n",
      "\n",
      "    accuracy                           0.68       240\n",
      "   macro avg       0.65      0.65      0.65       240\n",
      "weighted avg       0.68      0.68      0.68       240\n",
      "\n"
     ]
    },
    {
     "name": "stderr",
     "output_type": "stream",
     "text": [
      "/opt/anaconda3/envs/data_mining/lib/python3.11/site-packages/sklearn/neural_network/_multilayer_perceptron.py:691: ConvergenceWarning: Stochastic Optimizer: Maximum iterations (200) reached and the optimization hasn't converged yet.\n",
      "  warnings.warn(\n"
     ]
    }
   ],
   "source": [
    "# 初始化 MLPClassifier\n",
    "mlp = MLPClassifier(hidden_layer_sizes=(100,), max_iter=200, alpha=0.01, solver='adam', random_state=43)\n",
    "\n",
    "# 训练模型\n",
    "mlp.fit(X_train, y_train)\n",
    "\n",
    "# 预测\n",
    "y_pred = mlp.predict(X_val)\n",
    "\n",
    "# 评估模型\n",
    "print(confusion_matrix(y_val, y_pred))\n",
    "print(classification_report(y_val, y_pred))"
   ]
  },
  {
   "cell_type": "markdown",
   "id": "ea8b54e2-8318-45a9-b881-951f2db52983",
   "metadata": {},
   "source": [
    "## 6 测试集的处理"
   ]
  },
  {
   "cell_type": "markdown",
   "id": "61269828-a12d-4ed6-8fcb-615b7e2dce83",
   "metadata": {},
   "source": [
    "### 6.1 测试集的流水数据"
   ]
  },
  {
   "cell_type": "code",
   "execution_count": 40,
   "id": "78347ac4-3010-4340-bb62-226e0ca89aa7",
   "metadata": {},
   "outputs": [
    {
     "name": "stdout",
     "output_type": "stream",
     "text": [
      "<class 'pandas.core.frame.DataFrame'>\n",
      "RangeIndex: 995842 entries, 0 to 995841\n",
      "Data columns (total 21 columns):\n",
      " #   Column                 Non-Null Count   Dtype  \n",
      "---  ------                 --------------   -----  \n",
      " 0   apply_id               995842 non-null  int64  \n",
      " 1   merchant_id            995842 non-null  int64  \n",
      " 2   apply_date             995842 non-null  object \n",
      " 3   lend_amount            995842 non-null  float64\n",
      " 4   lend_period            995842 non-null  int64  \n",
      " 5   id                     995825 non-null  object \n",
      " 6   type                   995825 non-null  float64\n",
      " 7   status                 995825 non-null  float64\n",
      " 8   store_id               995825 non-null  float64\n",
      " 9   pay_way                995825 non-null  float64\n",
      " 10  sub_pay_way            995825 non-null  float64\n",
      " 11  paid_amount            995825 non-null  object \n",
      " 12  ctime                  995825 non-null  float64\n",
      " 13  bankcard_credit        995825 non-null  float64\n",
      " 14  bankcard_debit         995825 non-null  float64\n",
      " 15  wallet_weixin          995825 non-null  float64\n",
      " 16  wallet_alipay          995825 non-null  float64\n",
      " 17  wallet_alipay_finance  995825 non-null  float64\n",
      " 18  alipay_huabei          995825 non-null  float64\n",
      " 19  alipay_point           995825 non-null  float64\n",
      " 20  pt                     995825 non-null  float64\n",
      "dtypes: float64(15), int64(3), object(3)\n",
      "memory usage: 159.6+ MB\n",
      "None\n"
     ]
    }
   ],
   "source": [
    "# 将流水数据与测试集merge\n",
    "loss_data = loan_data_test.merge(loss_data, on='merchant_id', how='left')\n",
    "print(loss_data.info())\n",
    "\n",
    "loss_data.to_csv(\"loss_data.csv\")"
   ]
  },
  {
   "cell_type": "code",
   "execution_count": 41,
   "id": "af35a623-4fde-495b-82b8-61190fa2ab5d",
   "metadata": {},
   "outputs": [],
   "source": [
    "loss_data['apply_date'] = pd.to_datetime(loss_data['apply_date'])\n",
    "loss_data['pt'] = pd.to_datetime(loss_data['pt'], format='%Y%m%d')\n",
    "#loss_data['paid_amount'] = pd.to_numeric(loss_data['paid_amount'])\n",
    "loss_data['bankcard_credit'] = pd.to_numeric(loss_data['bankcard_credit'])\n",
    "loss_data['bankcard_debit'] = pd.to_numeric(loss_data['bankcard_debit'])\n",
    "loss_data['wallet_weixin'] = pd.to_numeric(loss_data['wallet_weixin'])\n",
    "loss_data['wallet_alipay'] = pd.to_numeric(loss_data['wallet_alipay'])\n",
    "loss_data['wallet_alipay_finance'] = pd.to_numeric(loss_data['wallet_alipay_finance'])\n",
    "loss_data['alipay_huabei'] = pd.to_numeric(loss_data['alipay_huabei'])\n",
    "loss_data['alipay_point'] = pd.to_numeric(loss_data['alipay_point'])\n",
    "#print(loss_data['bankcard_credit'].dtype)\n",
    "#print(loss_data)"
   ]
  },
  {
   "cell_type": "code",
   "execution_count": 42,
   "id": "2c1856fb-6a69-4384-a2d1-821e7d3b740d",
   "metadata": {},
   "outputs": [
    {
     "name": "stdout",
     "output_type": "stream",
     "text": [
      "删除已取消的交易后，流水数据的数据量为 995308\n",
      "删除无意义的交易后，流水数据的数据量为： 944828\n",
      "store_id\n",
      "5.153257e+11    36362.283825\n",
      "1.920140e+12     7338.789700\n",
      "3.872919e+12        1.000000\n",
      "6.928169e+12      433.596665\n",
      "7.258285e+12    29598.613333\n",
      "                    ...     \n",
      "9.832422e+14    15336.697917\n",
      "9.834611e+14     1572.462180\n",
      "9.837029e+14     1283.822684\n",
      "9.943470e+14     2890.616667\n",
      "9.956510e+14      725.962440\n",
      "Name: paid_amount, Length: 590, dtype: float64\n",
      "替换后，流水数据为：         apply_id      merchant_id apply_date  lend_amount  lend_period  \\\n",
      "0       50557025   40407382055696 2018-05-14       3000.0           12   \n",
      "1       50557025   40407382055696 2018-05-14       3000.0           12   \n",
      "2       50557025   40407382055696 2018-05-14       3000.0           12   \n",
      "3       50557025   40407382055696 2018-05-14       3000.0           12   \n",
      "4       50557025   40407382055696 2018-05-14       3000.0           12   \n",
      "...          ...              ...        ...          ...          ...   \n",
      "995837  50390497  497377049261045 2018-05-13      20000.0            3   \n",
      "995838  50390497  497377049261045 2018-05-13      20000.0            3   \n",
      "995839  50390497  497377049261045 2018-05-13      20000.0            3   \n",
      "995840  50390497  497377049261045 2018-05-13      20000.0            3   \n",
      "995841  50390497  497377049261045 2018-05-13      20000.0            3   \n",
      "\n",
      "                       id  type  status      store_id  pay_way  ...  \\\n",
      "0       t7895258623863223  30.0  2000.0  5.368963e+14      3.0  ...   \n",
      "1       t7895252549896652  30.0  2000.0  5.368963e+14      3.0  ...   \n",
      "2       t7895252532897798  30.0  2000.0  5.368963e+14      2.0  ...   \n",
      "3       t7895252536543762  30.0  2000.0  5.368963e+14      2.0  ...   \n",
      "4       t7895252533766375  30.0  2000.0  5.368963e+14      3.0  ...   \n",
      "...                   ...   ...     ...           ...      ...  ...   \n",
      "995837  t7895252437731238  30.0  2000.0  8.607990e+13      2.0  ...   \n",
      "995838  t7895252443663095  30.0  2000.0  8.607990e+13      3.0  ...   \n",
      "995839  t7895252446237679  30.0  2000.0  8.607990e+13      3.0  ...   \n",
      "995840  t7895252449865138  30.0  2000.0  8.607990e+13      2.0  ...   \n",
      "995841  t7895252440633070  30.0  2000.0  8.607990e+13      2.0  ...   \n",
      "\n",
      "        paid_amount         ctime  bankcard_credit  bankcard_debit  \\\n",
      "0            3300.0  1.525151e+12           3300.0             0.0   \n",
      "1             989.0  1.526703e+12              0.0             0.0   \n",
      "2            2700.0  1.526804e+12              0.0             0.0   \n",
      "3            1500.0  1.526791e+12              0.0             0.0   \n",
      "4            1500.0  1.526810e+12              0.0             0.0   \n",
      "...             ...           ...              ...             ...   \n",
      "995837       2800.0  1.528203e+12              0.0             0.0   \n",
      "995838       1240.0  1.528197e+12           1240.0             0.0   \n",
      "995839        580.0  1.528175e+12              0.0           580.0   \n",
      "995840     336300.0  1.528161e+12              0.0             0.0   \n",
      "995841       1190.0  1.528182e+12              0.0             0.0   \n",
      "\n",
      "        wallet_weixin  wallet_alipay  wallet_alipay_finance  alipay_huabei  \\\n",
      "0                 0.0            0.0                    0.0            0.0   \n",
      "1               989.0            0.0                    0.0            0.0   \n",
      "2                 0.0            0.0                    0.0         2700.0   \n",
      "3                 0.0            0.0                    0.0         1500.0   \n",
      "4              1500.0            0.0                    0.0            0.0   \n",
      "...               ...            ...                    ...            ...   \n",
      "995837            0.0         2800.0                    0.0            0.0   \n",
      "995838            0.0            0.0                    0.0            0.0   \n",
      "995839            0.0            0.0                    0.0            0.0   \n",
      "995840            0.0       336300.0                    0.0            0.0   \n",
      "995841            0.0         1190.0                    0.0            0.0   \n",
      "\n",
      "        alipay_point         pt  \n",
      "0                0.0 2018-05-01  \n",
      "1                0.0 2018-05-19  \n",
      "2                0.0 2018-05-20  \n",
      "3                0.0 2018-05-20  \n",
      "4                0.0 2018-05-20  \n",
      "...              ...        ...  \n",
      "995837           0.0 2018-06-05  \n",
      "995838           0.0 2018-06-05  \n",
      "995839           0.0 2018-06-05  \n",
      "995840           0.0 2018-06-05  \n",
      "995841           0.0 2018-06-05  \n",
      "\n",
      "[944828 rows x 21 columns]\n"
     ]
    },
    {
     "name": "stderr",
     "output_type": "stream",
     "text": [
      "/var/folders/l8/wygybflx5kv0zwk02x748tn80000gn/T/ipykernel_37529/4134706920.py:23: FutureWarning: A value is trying to be set on a copy of a DataFrame or Series through chained assignment using an inplace method.\n",
      "The behavior will change in pandas 3.0. This inplace method will never work because the intermediate object on which we are setting values always behaves as a copy.\n",
      "\n",
      "For example, when doing 'df[col].method(value, inplace=True)', try using 'df.method({col: value}, inplace=True)' or df[col] = df[col].method(value) instead, to perform the operation inplace on the original object.\n",
      "\n",
      "\n",
      "  loss_data['paid_amount'].fillna(loss_data.apply(lambda row: store_income_per_day.get((row['store_id'])), axis=1), inplace=True)\n"
     ]
    }
   ],
   "source": [
    "# 删除已取消的交易（loss_data['type']值为10的行）\n",
    "loss_data = loss_data[loss_data['type'] != 10]\n",
    "print(\"删除已取消的交易后，流水数据的数据量为\", loss_data.shape[0])\n",
    "\n",
    "# 删除无意义的交易（即'paid_amount'为'\\N'且bankcard_credit、bankcard_debit、wallet_weixin、wallet_alipay、wallet_alipay_finance、alipay_huabei、alipay_point的值均为0的列）\n",
    "loss_data['paid_amount'] = loss_data['paid_amount'].replace(r'\\N', np.nan) # 将‘\\N’替换为空值\n",
    "loss_data['paid_amount'] = pd.to_numeric(loss_data['paid_amount'])# 将['paid_amount']列转换为数字类型，方便求均值\n",
    "meaningless_transactions = loss_data[(loss_data['paid_amount'].isnull()) & \n",
    "                                           (loss_data['bankcard_credit'] == 0) &\n",
    "                                           (loss_data['bankcard_debit'] == 0) &\n",
    "                                           (loss_data['wallet_weixin'] == 0) &\n",
    "                                           (loss_data['wallet_alipay'] == 0) &\n",
    "                                           (loss_data['wallet_alipay_finance'] == 0) &\n",
    "                                           (loss_data['alipay_huabei'] == 0) &\n",
    "                                           (loss_data['alipay_point'] == 0)] # 创建条件索引，找出'paid_amount'为NaN且其他支付方式均为0的行\n",
    "loss_data.drop(meaningless_transactions.index, inplace=True)\n",
    "print(\"删除无意义的交易后，流水数据的数据量为：\", loss_data.shape[0])\n",
    "\n",
    "# 对于['paid_amount']列，使用该商铺该日收入均值替代值为‘\\N’的列\n",
    "store_income_per_day = loss_data.groupby(['store_id'])['paid_amount'].mean() # 使用该商铺的日收入均值替代空值\n",
    "print(store_income_per_day)\n",
    "store_income_per_day = store_income_per_day.astype('O')\n",
    "loss_data['paid_amount'].fillna(loss_data.apply(lambda row: store_income_per_day.get((row['store_id'])), axis=1), inplace=True)\n",
    "\n",
    "#loss_data['paid_amount'] = loss_data['paid_amount'].fillna(store_income_per_day)\n",
    "print(\"替换后，流水数据为：\", loss_data)"
   ]
  },
  {
   "cell_type": "code",
   "execution_count": 43,
   "id": "4caa717c-fc33-42cf-ac4e-a12bf42d7b41",
   "metadata": {},
   "outputs": [
    {
     "name": "stdout",
     "output_type": "stream",
     "text": [
      "        apply_id      merchant_id apply_date  lend_amount  lend_period  \\\n",
      "0       50557025   40407382055696 2018-05-14       3000.0           12   \n",
      "1       50557025   40407382055696 2018-05-14       3000.0           12   \n",
      "2       50557025   40407382055696 2018-05-14       3000.0           12   \n",
      "3       50557025   40407382055696 2018-05-14       3000.0           12   \n",
      "4       50557025   40407382055696 2018-05-14       3000.0           12   \n",
      "...          ...              ...        ...          ...          ...   \n",
      "995837  50390497  497377049261045 2018-05-13      20000.0            3   \n",
      "995838  50390497  497377049261045 2018-05-13      20000.0            3   \n",
      "995839  50390497  497377049261045 2018-05-13      20000.0            3   \n",
      "995840  50390497  497377049261045 2018-05-13      20000.0            3   \n",
      "995841  50390497  497377049261045 2018-05-13      20000.0            3   \n",
      "\n",
      "                       id  type  status      store_id  pay_way  ...  \\\n",
      "0       t7895258623863223  30.0  2000.0  5.368963e+14      3.0  ...   \n",
      "1       t7895252549896652  30.0  2000.0  5.368963e+14      3.0  ...   \n",
      "2       t7895252532897798  30.0  2000.0  5.368963e+14      2.0  ...   \n",
      "3       t7895252536543762  30.0  2000.0  5.368963e+14      2.0  ...   \n",
      "4       t7895252533766375  30.0  2000.0  5.368963e+14      3.0  ...   \n",
      "...                   ...   ...     ...           ...      ...  ...   \n",
      "995837  t7895252437731238  30.0  2000.0  8.607990e+13      2.0  ...   \n",
      "995838  t7895252443663095  30.0  2000.0  8.607990e+13      3.0  ...   \n",
      "995839  t7895252446237679  30.0  2000.0  8.607990e+13      3.0  ...   \n",
      "995840  t7895252449865138  30.0  2000.0  8.607990e+13      2.0  ...   \n",
      "995841  t7895252440633070  30.0  2000.0  8.607990e+13      2.0  ...   \n",
      "\n",
      "        paid_amount         ctime  bankcard_credit  bankcard_debit  \\\n",
      "0             33.00  1.525151e+12             33.0             0.0   \n",
      "1              9.89  1.526703e+12              0.0             0.0   \n",
      "2             27.00  1.526804e+12              0.0             0.0   \n",
      "3             15.00  1.526791e+12              0.0             0.0   \n",
      "4             15.00  1.526810e+12              0.0             0.0   \n",
      "...             ...           ...              ...             ...   \n",
      "995837        28.00  1.528203e+12              0.0             0.0   \n",
      "995838        12.40  1.528197e+12             12.4             0.0   \n",
      "995839         5.80  1.528175e+12              0.0             5.8   \n",
      "995840      3363.00  1.528161e+12              0.0             0.0   \n",
      "995841        11.90  1.528182e+12              0.0             0.0   \n",
      "\n",
      "        wallet_weixin  wallet_alipay  wallet_alipay_finance  alipay_huabei  \\\n",
      "0                0.00            0.0                    0.0            0.0   \n",
      "1                9.89            0.0                    0.0            0.0   \n",
      "2                0.00            0.0                    0.0           27.0   \n",
      "3                0.00            0.0                    0.0           15.0   \n",
      "4               15.00            0.0                    0.0            0.0   \n",
      "...               ...            ...                    ...            ...   \n",
      "995837           0.00           28.0                    0.0            0.0   \n",
      "995838           0.00            0.0                    0.0            0.0   \n",
      "995839           0.00            0.0                    0.0            0.0   \n",
      "995840           0.00         3363.0                    0.0            0.0   \n",
      "995841           0.00           11.9                    0.0            0.0   \n",
      "\n",
      "        alipay_point         pt  \n",
      "0                0.0 2018-05-01  \n",
      "1                0.0 2018-05-19  \n",
      "2                0.0 2018-05-20  \n",
      "3                0.0 2018-05-20  \n",
      "4                0.0 2018-05-20  \n",
      "...              ...        ...  \n",
      "995837           0.0 2018-06-05  \n",
      "995838           0.0 2018-06-05  \n",
      "995839           0.0 2018-06-05  \n",
      "995840           0.0 2018-06-05  \n",
      "995841           0.0 2018-06-05  \n",
      "\n",
      "[944828 rows x 21 columns]\n"
     ]
    }
   ],
   "source": [
    "loss_data['paid_amount'] = loss_data['paid_amount'] / 100\n",
    "loss_data['bankcard_credit'] = loss_data['bankcard_credit'] / 100\n",
    "loss_data['bankcard_debit'] = loss_data['bankcard_debit'] / 100\n",
    "loss_data['wallet_weixin'] = loss_data['wallet_weixin'] / 100\n",
    "loss_data['wallet_alipay'] = loss_data['wallet_alipay'] /100\n",
    "loss_data['wallet_alipay_finance'] = loss_data['wallet_alipay_finance'] / 100\n",
    "loss_data['alipay_huabei'] = loss_data['alipay_huabei'] / 100\n",
    "loss_data['alipay_point'] = loss_data['alipay_point'] / 100\n",
    "print(loss_data)"
   ]
  },
  {
   "cell_type": "code",
   "execution_count": 44,
   "id": "a36f70d8-fd27-488d-b094-051ab7b9ddf7",
   "metadata": {},
   "outputs": [
    {
     "name": "stdout",
     "output_type": "stream",
     "text": [
      "        apply_id      merchant_id apply_date  lend_amount  lend_period  \\\n",
      "0       50557025   40407382055696 2018-05-14       3000.0           12   \n",
      "1       50557025   40407382055696 2018-05-14       3000.0           12   \n",
      "2       50557025   40407382055696 2018-05-14       3000.0           12   \n",
      "3       50557025   40407382055696 2018-05-14       3000.0           12   \n",
      "4       50557025   40407382055696 2018-05-14       3000.0           12   \n",
      "...          ...              ...        ...          ...          ...   \n",
      "995837  50390497  497377049261045 2018-05-13      20000.0            3   \n",
      "995838  50390497  497377049261045 2018-05-13      20000.0            3   \n",
      "995839  50390497  497377049261045 2018-05-13      20000.0            3   \n",
      "995840  50390497  497377049261045 2018-05-13      20000.0            3   \n",
      "995841  50390497  497377049261045 2018-05-13      20000.0            3   \n",
      "\n",
      "                       id  type  status      store_id  pay_way  ...  \\\n",
      "0       t7895258623863223  30.0  2000.0  5.368963e+14      3.0  ...   \n",
      "1       t7895252549896652  30.0  2000.0  5.368963e+14      3.0  ...   \n",
      "2       t7895252532897798  30.0  2000.0  5.368963e+14      2.0  ...   \n",
      "3       t7895252536543762  30.0  2000.0  5.368963e+14      2.0  ...   \n",
      "4       t7895252533766375  30.0  2000.0  5.368963e+14      3.0  ...   \n",
      "...                   ...   ...     ...           ...      ...  ...   \n",
      "995837  t7895252437731238  30.0  2000.0  8.607990e+13      2.0  ...   \n",
      "995838  t7895252443663095  30.0  2000.0  8.607990e+13      3.0  ...   \n",
      "995839  t7895252446237679  30.0  2000.0  8.607990e+13      3.0  ...   \n",
      "995840  t7895252449865138  30.0  2000.0  8.607990e+13      2.0  ...   \n",
      "995841  t7895252440633070  30.0  2000.0  8.607990e+13      2.0  ...   \n",
      "\n",
      "        paid_amount         ctime  bankcard_credit  bankcard_debit  \\\n",
      "0             33.00  1.525151e+12             33.0             0.0   \n",
      "1              9.89  1.526703e+12              0.0             0.0   \n",
      "2             27.00  1.526804e+12              0.0             0.0   \n",
      "3             15.00  1.526791e+12              0.0             0.0   \n",
      "4             15.00  1.526810e+12              0.0             0.0   \n",
      "...             ...           ...              ...             ...   \n",
      "995837        28.00  1.528203e+12              0.0             0.0   \n",
      "995838        12.40  1.528197e+12             12.4             0.0   \n",
      "995839         5.80  1.528175e+12              0.0             5.8   \n",
      "995840      3363.00  1.528161e+12              0.0             0.0   \n",
      "995841        11.90  1.528182e+12              0.0             0.0   \n",
      "\n",
      "        wallet_weixin  wallet_alipay  wallet_alipay_finance  alipay_huabei  \\\n",
      "0                0.00            0.0                    0.0            0.0   \n",
      "1                9.89            0.0                    0.0            0.0   \n",
      "2                0.00            0.0                    0.0           27.0   \n",
      "3                0.00            0.0                    0.0           15.0   \n",
      "4               15.00            0.0                    0.0            0.0   \n",
      "...               ...            ...                    ...            ...   \n",
      "995837           0.00           28.0                    0.0            0.0   \n",
      "995838           0.00            0.0                    0.0            0.0   \n",
      "995839           0.00            0.0                    0.0            0.0   \n",
      "995840           0.00         3363.0                    0.0            0.0   \n",
      "995841           0.00           11.9                    0.0            0.0   \n",
      "\n",
      "        alipay_point         pt  \n",
      "0                0.0 2018-05-01  \n",
      "1                0.0 2018-05-19  \n",
      "2                0.0 2018-05-20  \n",
      "3                0.0 2018-05-20  \n",
      "4                0.0 2018-05-20  \n",
      "...              ...        ...  \n",
      "995837           0.0 2018-06-05  \n",
      "995838           0.0 2018-06-05  \n",
      "995839           0.0 2018-06-05  \n",
      "995840           0.0 2018-06-05  \n",
      "995841           0.0 2018-06-05  \n",
      "\n",
      "[732240 rows x 21 columns]\n"
     ]
    }
   ],
   "source": [
    "# 将在apply_date之前30天的流水数据视为有效数据，删除其他数据\n",
    "loss_data = loss_data[(loss_data['apply_date'] - loss_data['pt']).dt.days.le(30)]\n",
    "print(loss_data)"
   ]
  },
  {
   "cell_type": "code",
   "execution_count": 45,
   "id": "5cb52a89-2d44-47e7-81bd-d0fd0da95233",
   "metadata": {},
   "outputs": [
    {
     "name": "stdout",
     "output_type": "stream",
     "text": [
      "481\n"
     ]
    }
   ],
   "source": [
    "print(loss_data.groupby('merchant_id')['apply_date'].unique().shape[0])"
   ]
  },
  {
   "cell_type": "markdown",
   "id": "92975190-bb57-4c0e-bd0b-b15717e78e5b",
   "metadata": {},
   "source": [
    "#### 6.1.1 获取商户金额均值（每日"
   ]
  },
  {
   "cell_type": "code",
   "execution_count": 46,
   "id": "0242423f-7b2c-4fd2-859c-63885d086797",
   "metadata": {},
   "outputs": [
    {
     "name": "stdout",
     "output_type": "stream",
     "text": [
      "\n",
      "每个商户的交易金额统计特征：\n",
      "         merchant_id apply_date          mean        sum       max       min\n",
      "0      4438120154392 2018-05-08   2049.352727   22542.88  10000.01     30.00\n",
      "1      7016886982744 2018-05-17    140.125000    1121.00    295.00     50.00\n",
      "2      7362163203486 2018-05-27   4019.543810   84410.42   8927.85    900.00\n",
      "3     10001782380154 2018-05-22    567.854000   22714.16    952.18     19.00\n",
      "4     14056953414473 2018-05-17   5364.147167  321848.83  18797.74   1588.00\n",
      "..               ...        ...           ...        ...       ...       ...\n",
      "480  991176064417345 2018-06-08  24583.190263  934161.23  56444.74  12869.75\n",
      "481  993492192219716 2018-05-04    160.750000     643.00    283.00    105.00\n",
      "482  996389374126439 2018-06-06   1068.733750    8549.87   3056.00      1.02\n",
      "483  996858225667641 2018-06-09    285.879524    6003.47    627.00     30.00\n",
      "484  997450569402569 2018-05-03   2649.244459  196044.09   6230.45      8.00\n",
      "\n",
      "[485 rows x 6 columns]\n"
     ]
    }
   ],
   "source": [
    "# 计算每个商户的交易金额统计特征（申请前30天）\n",
    "transaction_amount_statistics_per_merchant = loss_data.groupby(['merchant_id', 'apply_date', loss_data['pt'].dt.date])['paid_amount'].sum()\n",
    "transaction_amount_statistics_per_merchant_per_day = transaction_amount_statistics_per_merchant.groupby(['merchant_id', 'apply_date']).agg(['mean', 'sum', 'max', 'min']).reset_index()\n",
    "\n",
    "print(\"\\n每个商户的交易金额统计特征：\")\n",
    "print(transaction_amount_statistics_per_merchant_per_day)"
   ]
  },
  {
   "cell_type": "markdown",
   "id": "9f1c3958-304b-4dc4-9376-f39778aaf158",
   "metadata": {},
   "source": [
    "#### 6.1.2 获取商户金额标准差（每日"
   ]
  },
  {
   "cell_type": "code",
   "execution_count": 47,
   "id": "6c6096c5-3041-4ceb-b2b3-ce50cfd67f1e",
   "metadata": {},
   "outputs": [
    {
     "name": "stdout",
     "output_type": "stream",
     "text": [
      "         merchant_id apply_date  transaction_amount_per_day_std\n",
      "0      4438120154392 2018-05-08                     3049.828321\n",
      "1      7016886982744 2018-05-17                       96.616233\n",
      "2      7362163203486 2018-05-27                     1837.038003\n",
      "3     10001782380154 2018-05-22                      210.534709\n",
      "4     14056953414473 2018-05-17                     3838.191373\n",
      "..               ...        ...                             ...\n",
      "480  991176064417345 2018-06-08                     9487.170080\n",
      "481  993492192219716 2018-05-04                       83.715291\n",
      "482  996389374126439 2018-06-06                      996.189148\n",
      "483  996858225667641 2018-06-09                      143.028728\n",
      "484  997450569402569 2018-05-03                     1569.251737\n",
      "\n",
      "[485 rows x 3 columns]\n",
      "<class 'pandas.core.frame.DataFrame'>\n",
      "RangeIndex: 485 entries, 0 to 484\n",
      "Data columns (total 3 columns):\n",
      " #   Column                          Non-Null Count  Dtype         \n",
      "---  ------                          --------------  -----         \n",
      " 0   merchant_id                     485 non-null    int64         \n",
      " 1   apply_date                      485 non-null    datetime64[ns]\n",
      " 2   transaction_amount_per_day_std  469 non-null    float64       \n",
      "dtypes: datetime64[ns](1), float64(1), int64(1)\n",
      "memory usage: 11.5 KB\n",
      "None\n"
     ]
    }
   ],
   "source": [
    "# 根据商户分组并计算交易总金额和交易金额的标准差（申请前30天）\n",
    "merchant_activity = loss_data.groupby(['merchant_id', 'apply_date', loss_data['pt'].dt.date])['paid_amount'].sum()\n",
    "merchant_activity_per_day = merchant_activity.groupby(['merchant_id', 'apply_date']).std()\n",
    "\n",
    "# 重命名列名\n",
    "merchant_activity_per_day.columns = ['transaction_amount_std']\n",
    "merchant_activity_per_day = merchant_activity_per_day.reset_index(name='transaction_amount_per_day_std')\n",
    "\n",
    "# 显示结果\n",
    "print(merchant_activity_per_day)\n",
    "print(merchant_activity_per_day.info())"
   ]
  },
  {
   "cell_type": "markdown",
   "id": "467a8d45-3212-4fe9-8b1f-7e2dfcb3da22",
   "metadata": {},
   "source": [
    "#### 6.1.3 商户平均每日交易数"
   ]
  },
  {
   "cell_type": "code",
   "execution_count": 48,
   "id": "4ef3be08-732c-4761-8b42-9632521e4b63",
   "metadata": {},
   "outputs": [
    {
     "name": "stdout",
     "output_type": "stream",
     "text": [
      "每个商户平均每日交易数量：\n",
      "         merchant_id apply_date  transaction_count_per_day\n",
      "0      4438120154392 2018-05-08                   1.454545\n",
      "1      7016886982744 2018-05-17                   1.875000\n",
      "2      7362163203486 2018-05-27                  12.952381\n",
      "3     10001782380154 2018-05-22                  43.825000\n",
      "4     14056953414473 2018-05-17                  53.800000\n",
      "..               ...        ...                        ...\n",
      "480  991176064417345 2018-06-08                 130.500000\n",
      "481  993492192219716 2018-05-04                   1.250000\n",
      "482  996389374126439 2018-06-06                   6.750000\n",
      "483  996858225667641 2018-06-09                   9.000000\n",
      "484  997450569402569 2018-05-03                 103.513514\n",
      "\n",
      "[485 rows x 3 columns]\n"
     ]
    }
   ],
   "source": [
    "# 计算每个商户每日平均交易次数（申请前30天）\n",
    "transaction_count_per_day = loss_data.groupby(['merchant_id', 'apply_date', loss_data['pt'].dt.date]).size()\n",
    "transaction_count_per_day_per_merchant = transaction_count_per_day.groupby(['merchant_id', 'apply_date']).mean().reset_index(name='transaction_count_per_day')\n",
    "\n",
    "print(\"每个商户平均每日交易数量：\")\n",
    "print(transaction_count_per_day_per_merchant)"
   ]
  },
  {
   "cell_type": "markdown",
   "id": "23f9867b-a747-4325-9584-e9e34cb970fb",
   "metadata": {},
   "source": [
    "#### 6.1.4 平均每日红包使用金额"
   ]
  },
  {
   "cell_type": "code",
   "execution_count": 49,
   "id": "e98925ec-41b5-4f1d-8e45-16d356a79a7d",
   "metadata": {},
   "outputs": [
    {
     "name": "stdout",
     "output_type": "stream",
     "text": [
      "         merchant_id apply_date  red_envelope_per_day\n",
      "0      4438120154392 2018-05-08              0.000000\n",
      "1      7016886982744 2018-05-17              0.000000\n",
      "2      7362163203486 2018-05-27             58.511429\n",
      "3     10001782380154 2018-05-22              0.975000\n",
      "4     14056953414473 2018-05-17             50.989167\n",
      "..               ...        ...                   ...\n",
      "480  991176064417345 2018-06-08            184.359737\n",
      "481  993492192219716 2018-05-04              0.000000\n",
      "482  996389374126439 2018-06-06              9.750000\n",
      "483  996858225667641 2018-06-09              0.000000\n",
      "484  997450569402569 2018-05-03              2.601757\n",
      "\n",
      "[485 rows x 3 columns]\n"
     ]
    }
   ],
   "source": [
    "# 商户平均每日红包使用金额（申请前30天）\n",
    "loss_data['red_envelope'] = loss_data['paid_amount'] - loss_data[['bankcard_credit', 'bankcard_debit', 'wallet_weixin', 'wallet_alipay', 'wallet_alipay_finance', 'alipay_huabei', 'alipay_point']].sum(axis=1)\n",
    "#print(loss_data)\n",
    "merchant_red_envelope = loss_data.groupby(['merchant_id', 'apply_date', loss_data['pt'].dt.date])['red_envelope'].sum()\n",
    "merchant_red_envelope_per_day = merchant_red_envelope.groupby(['merchant_id', 'apply_date']).mean().reset_index(name='red_envelope_per_day')\n",
    "print(merchant_red_envelope_per_day)"
   ]
  },
  {
   "cell_type": "markdown",
   "id": "d36008d6-caca-4e79-861b-c45f2e758dd8",
   "metadata": {},
   "source": [
    "#### 6.1.5 花呗/信用卡支付占该商铺总支付金额的占比"
   ]
  },
  {
   "cell_type": "code",
   "execution_count": 50,
   "id": "42601754-836f-4d53-96b1-ee67bb673acd",
   "metadata": {},
   "outputs": [
    {
     "name": "stdout",
     "output_type": "stream",
     "text": [
      "信用卡支付金额与总支付金额的比例（按商户）：\n",
      "         merchant_id apply_date  credit_card_ratio\n",
      "0      4438120154392 2018-05-08           0.990063\n",
      "1      7016886982744 2018-05-17           0.000000\n",
      "2      7362163203486 2018-05-27           0.128403\n",
      "3     10001782380154 2018-05-22           0.031635\n",
      "4     14056953414473 2018-05-17           0.056620\n",
      "..               ...        ...                ...\n",
      "480  991176064417345 2018-06-08           0.187402\n",
      "481  993492192219716 2018-05-04           0.000000\n",
      "482  996389374126439 2018-06-06           0.188506\n",
      "483  996858225667641 2018-06-09           0.080935\n",
      "484  997450569402569 2018-05-03           0.189279\n",
      "\n",
      "[485 rows x 3 columns]\n",
      "\n",
      "花呗支付金额与总支付金额的比例（按商户）：\n",
      "         merchant_id apply_date  huabei_ratio\n",
      "0      4438120154392 2018-05-08      0.004392\n",
      "1      7016886982744 2018-05-17      0.098127\n",
      "2      7362163203486 2018-05-27      0.109676\n",
      "3     10001782380154 2018-05-22      0.038576\n",
      "4     14056953414473 2018-05-17      0.067464\n",
      "..               ...        ...           ...\n",
      "480  991176064417345 2018-06-08      0.061640\n",
      "481  993492192219716 2018-05-04      1.000000\n",
      "482  996389374126439 2018-06-06      0.061616\n",
      "483  996858225667641 2018-06-09      0.196968\n",
      "484  997450569402569 2018-05-03      0.050671\n",
      "\n",
      "[485 rows x 3 columns]\n"
     ]
    }
   ],
   "source": [
    "# 计算每个商户的总支付金额（申请前30天）\n",
    "total_payment_per_merchant = loss_data.groupby(['merchant_id', 'apply_date'])[['bankcard_debit', 'wallet_weixin', 'wallet_alipay', 'wallet_alipay_finance', 'bankcard_credit', 'alipay_huabei', 'alipay_point']].sum()\n",
    "total_payment_per_merchant['total_payment'] = total_payment_per_merchant.sum(axis=1)\n",
    "\n",
    "# 计算信用卡支付金额与总支付金额的比例\n",
    "credit_card_payment_ratio_per_merchant = total_payment_per_merchant['bankcard_credit'] / total_payment_per_merchant['total_payment']\n",
    "credit_card_payment_ratio_per_merchant = credit_card_payment_ratio_per_merchant.reset_index(name='credit_card_ratio')\n",
    "# 计算花呗支付金额与总支付金额的比例\n",
    "huabei_payment_ratio_per_merchant = total_payment_per_merchant['alipay_huabei'] / total_payment_per_merchant['total_payment']\n",
    "huabei_payment_ratio_per_merchant = huabei_payment_ratio_per_merchant.reset_index(name='huabei_ratio')\n",
    "\n",
    "# 显示结果\n",
    "print(\"信用卡支付金额与总支付金额的比例（按商户）：\")\n",
    "print(credit_card_payment_ratio_per_merchant)\n",
    "\n",
    "print(\"\\n花呗支付金额与总支付金额的比例（按商户）：\")\n",
    "print(huabei_payment_ratio_per_merchant)"
   ]
  },
  {
   "cell_type": "markdown",
   "id": "c03440ee-9752-4245-9357-43d6b26bb350",
   "metadata": {},
   "source": [
    "### 6.3 数据整合"
   ]
  },
  {
   "cell_type": "code",
   "execution_count": 51,
   "id": "30ec5a7b-113f-4673-a1de-da2f62dd561e",
   "metadata": {},
   "outputs": [
    {
     "name": "stdout",
     "output_type": "stream",
     "text": [
      "<class 'pandas.core.frame.DataFrame'>\n",
      "RangeIndex: 515 entries, 0 to 514\n",
      "Data columns (total 10 columns):\n",
      " #   Column                          Non-Null Count  Dtype  \n",
      "---  ------                          --------------  -----  \n",
      " 0   apply_id                        515 non-null    int64  \n",
      " 1   merchant_id                     515 non-null    int64  \n",
      " 2   lend_amount                     515 non-null    float64\n",
      " 3   lend_period                     515 non-null    int64  \n",
      " 4   mean                            485 non-null    float64\n",
      " 5   transaction_amount_per_day_std  469 non-null    float64\n",
      " 6   transaction_count_per_day       485 non-null    float64\n",
      " 7   red_envelope_per_day            485 non-null    float64\n",
      " 8   huabei_ratio                    485 non-null    float64\n",
      " 9   credit_card_ratio               485 non-null    float64\n",
      "dtypes: float64(7), int64(3)\n",
      "memory usage: 40.4 KB\n",
      "None\n"
     ]
    }
   ],
   "source": [
    "# 流水数据\n",
    "loan_data_test['apply_date'] = pd.to_datetime(loan_data_test['apply_date'])\n",
    "# 商户金额均值（每日\n",
    "df_test = loan_data_test.merge(transaction_amount_statistics_per_merchant_per_day[['merchant_id', 'apply_date', 'mean']], on=['merchant_id', 'apply_date'], how='left')\n",
    "# 商户金额标准差（每日\n",
    "df_test = df_test.merge(merchant_activity_per_day, on=['merchant_id', 'apply_date'], how='left')\n",
    "# 商户平均每日交易数\n",
    "df_test = df_test.merge(transaction_count_per_day_per_merchant, on=['merchant_id', 'apply_date'], how='left')\n",
    "# 平均每日红包使用金额\n",
    "df_test = df_test.merge(merchant_red_envelope_per_day, on=['merchant_id', 'apply_date'], how='left')\n",
    "# 花呗/信用卡支付占该商铺总支付金额的占比\n",
    "df_test = df_test.merge(huabei_payment_ratio_per_merchant, on=['merchant_id', 'apply_date'], how='left')\n",
    "df_test = df_test.merge(credit_card_payment_ratio_per_merchant, on=['merchant_id', 'apply_date'], how='left')\n",
    "df_test = df_test.select_dtypes(include=['float64', 'int64'])\n",
    "print(df_test.info())"
   ]
  },
  {
   "cell_type": "code",
   "execution_count": 52,
   "id": "adadd02a-a04b-41ba-bc33-89262f55264a",
   "metadata": {},
   "outputs": [
    {
     "name": "stdout",
     "output_type": "stream",
     "text": [
      "[{'K': 1, 'RMSE': 4287899.085840244}, {'K': 3, 'RMSE': 4126034.571821416}, {'K': 5, 'RMSE': 4086073.29080967}, {'K': 7, 'RMSE': 4064750.3997773645}, {'K': 9, 'RMSE': 4113368.083257005}, {'K': 11, 'RMSE': 4130826.03203979}]\n"
     ]
    }
   ],
   "source": [
    "#使用KNN插补对空缺值进行填补\n",
    "from sklearn.impute import KNNImputer\n",
    "\n",
    "df = df_test.copy()\n",
    "df = df.drop(columns=['apply_id', 'merchant_id'])\n",
    "\n",
    "def optimize_k(data, target):\n",
    "    errors = []\n",
    "    for k in range(1, 12, 2):\n",
    "        imputer = KNNImputer(n_neighbors=k)\n",
    "        imputed = imputer.fit_transform(df)\n",
    "        df_imputed = pd.DataFrame(imputed, columns=df.columns)\n",
    "        \n",
    "        X = df_imputed.drop(target, axis=1)\n",
    "        y = df_imputed[target]\n",
    "        X_train, X_test, y_train, y_test = train_test_split(X, y, test_size=0.2, random_state=42)\n",
    "\n",
    "        model = RandomForestRegressor()\n",
    "        model.fit(X_train, y_train)\n",
    "        preds = model.predict(X_test)\n",
    "        error = mean_squared_error(y_test, preds)\n",
    "        errors.append({'K': k, 'RMSE': error})\n",
    "        \n",
    "    return errors\n",
    "\n",
    "k_errors = optimize_k(data=df, target=['mean', 'transaction_amount_per_day_std', 'transaction_count_per_day', 'red_envelope_per_day', 'huabei_ratio', 'credit_card_ratio'])\n",
    "print(k_errors)"
   ]
  },
  {
   "cell_type": "code",
   "execution_count": 53,
   "id": "ef07093f-5d8f-480d-b91c-485f4a9fb6e5",
   "metadata": {},
   "outputs": [
    {
     "name": "stdout",
     "output_type": "stream",
     "text": [
      "<class 'pandas.core.frame.DataFrame'>\n",
      "RangeIndex: 515 entries, 0 to 514\n",
      "Data columns (total 8 columns):\n",
      " #   Column                          Non-Null Count  Dtype  \n",
      "---  ------                          --------------  -----  \n",
      " 0   lend_amount                     515 non-null    float64\n",
      " 1   lend_period                     515 non-null    float64\n",
      " 2   mean                            515 non-null    float64\n",
      " 3   transaction_amount_per_day_std  515 non-null    float64\n",
      " 4   transaction_count_per_day       515 non-null    float64\n",
      " 5   red_envelope_per_day            515 non-null    float64\n",
      " 6   huabei_ratio                    515 non-null    float64\n",
      " 7   credit_card_ratio               515 non-null    float64\n",
      "dtypes: float64(8)\n",
      "memory usage: 32.3 KB\n",
      "None\n"
     ]
    }
   ],
   "source": [
    "#使用KNN插补对空缺值进行填补\n",
    "imputer = KNNImputer(n_neighbors=9)\n",
    "imputed = imputer.fit_transform(df)\n",
    "df_imputed = pd.DataFrame(imputed, columns=df.columns)\n",
    "\n",
    "print(df_imputed.info())"
   ]
  },
  {
   "cell_type": "code",
   "execution_count": 54,
   "id": "6d6f3061-f656-4933-a4fa-53a6bd9a8652",
   "metadata": {},
   "outputs": [
    {
     "name": "stdout",
     "output_type": "stream",
     "text": [
      "     apply_id      merchant_id  lend_amount  lend_period         mean  \\\n",
      "0    50557025   40407382055696       3000.0         12.0   450.515208   \n",
      "1    49510913  233357058121933      10000.0          6.0   557.748136   \n",
      "2    50782824  295347911545545       5000.0          3.0   658.331818   \n",
      "3    51967846  856779078398919      50000.0         12.0  1485.988409   \n",
      "4    51105993  549633976173617       5000.0          3.0   755.253889   \n",
      "..        ...              ...          ...          ...          ...   \n",
      "510  51298099   32939380854162       1000.0          3.0   199.525000   \n",
      "511  51727003  876304916318446      80000.0          4.0  1119.164167   \n",
      "512  51967678  410327776551501       2000.0          3.0    86.024000   \n",
      "513  50391309  318511520290974      10000.0          6.0  2851.757619   \n",
      "514  50390497  497377049261045      20000.0          3.0  1731.012500   \n",
      "\n",
      "     transaction_amount_per_day_std  transaction_count_per_day  \\\n",
      "0                        209.705097                  24.729167   \n",
      "1                        635.655720                   2.661017   \n",
      "2                        820.604795                   1.454545   \n",
      "3                        982.705418                   4.795455   \n",
      "4                        411.169014                  39.555556   \n",
      "..                              ...                        ...   \n",
      "510                      140.678894                   3.500000   \n",
      "511                     2295.435986                  24.604167   \n",
      "512                       76.758660                   1.600000   \n",
      "513                     3288.782300                   1.523810   \n",
      "514                     1535.999463                  33.700000   \n",
      "\n",
      "     red_envelope_per_day  huabei_ratio  credit_card_ratio  loan_count  \\\n",
      "0                0.520833      0.166132           0.044538         0.0   \n",
      "1                0.000000      0.595164           0.386633         0.0   \n",
      "2                0.000000      0.000000           0.941743         0.0   \n",
      "3                3.954545      0.054969           0.036263         0.0   \n",
      "4                0.755556      0.038346           0.092393         0.0   \n",
      "..                    ...           ...                ...         ...   \n",
      "510              0.000000      0.749280           0.000000         0.0   \n",
      "511              0.111250      0.044195           0.690468         0.0   \n",
      "512              0.000000      0.999954           0.000000         0.0   \n",
      "513              0.000000      0.006512           0.599761         0.0   \n",
      "514              2.066667      0.079940           0.147818         1.0   \n",
      "\n",
      "     repayment_delay_days  history_30_overdue_counts  \\\n",
      "0                     0.0                        0.0   \n",
      "1                     0.0                        0.0   \n",
      "2                     0.0                        0.0   \n",
      "3                     0.0                        0.0   \n",
      "4                     0.0                        0.0   \n",
      "..                    ...                        ...   \n",
      "510                   0.0                        0.0   \n",
      "511                   0.0                        0.0   \n",
      "512                   0.0                        0.0   \n",
      "513                   0.0                        0.0   \n",
      "514                   0.0                        0.0   \n",
      "\n",
      "     history_total_loan_amount  overdue_rate/mean_loan_period  \n",
      "0                          0.0                       0.000000  \n",
      "1                          0.0                       0.000000  \n",
      "2                          0.0                       0.000000  \n",
      "3                          0.0                       0.000000  \n",
      "4                          0.0                       0.000000  \n",
      "..                         ...                            ...  \n",
      "510                        0.0                       0.000000  \n",
      "511                        0.0                       0.000000  \n",
      "512                        0.0                       0.000000  \n",
      "513                        0.0                       0.000000  \n",
      "514                    12000.0                       0.166667  \n",
      "\n",
      "[515 rows x 15 columns]\n"
     ]
    }
   ],
   "source": [
    "df_test[['lend_amount', 'lend_period', 'mean', 'transaction_amount_per_day_std', 'transaction_count_per_day', 'red_envelope_per_day', 'huabei_ratio', 'credit_card_ratio']] = df_imputed\n",
    "\n",
    "# 历史贷款数据\n",
    "# 贷款人历史贷款次数\n",
    "df_test = df_test.merge(loan_count_per_borrower, on='merchant_id', how='left')\n",
    "# 贷款人每笔贷款是否逾期/提前还款\n",
    "df_test = df_test.merge(mean_delay_days_per_merchant, on='merchant_id', how='left')\n",
    "# 历史30天逾期未还款的次数\n",
    "df_test = df_test.merge(history_overdue_counts, on='merchant_id', how='left')\n",
    "# 历史30天逾期还款率\n",
    "#df_test = df_test.merge(history_merged_data[['merchant_id', 'overdue_rate']], on='merchant_id', how='left')\n",
    "# 历史贷款总金额\n",
    "df_test = df_test.merge(history_total_loan_amount, on='merchant_id', how='left')\n",
    "# 历史逾期率/商户平均贷款期数\n",
    "df_test = df_test.merge(history_merged_data[['merchant_id', 'overdue_rate/mean_loan_period']], on='merchant_id', how='left')\n",
    "\n",
    "df_test[['loan_count', 'repayment_delay_days', 'history_30_overdue_counts', 'history_total_loan_amount', 'overdue_rate/mean_loan_period']] = df_test[['loan_count', 'repayment_delay_days', 'history_30_overdue_counts', 'history_total_loan_amount', 'overdue_rate/mean_loan_period']].fillna(0)\n",
    "print(df_test)"
   ]
  },
  {
   "cell_type": "code",
   "execution_count": 55,
   "id": "c3a972d0-3f9c-461b-a2e1-634422d4fa5f",
   "metadata": {},
   "outputs": [
    {
     "name": "stdout",
     "output_type": "stream",
     "text": [
      "<class 'pandas.core.frame.DataFrame'>\n",
      "RangeIndex: 515 entries, 0 to 514\n",
      "Data columns (total 15 columns):\n",
      " #   Column                          Non-Null Count  Dtype  \n",
      "---  ------                          --------------  -----  \n",
      " 0   apply_id                        515 non-null    int64  \n",
      " 1   merchant_id                     515 non-null    int64  \n",
      " 2   lend_amount                     515 non-null    float64\n",
      " 3   lend_period                     515 non-null    float64\n",
      " 4   mean                            515 non-null    float64\n",
      " 5   transaction_amount_per_day_std  515 non-null    float64\n",
      " 6   transaction_count_per_day       515 non-null    float64\n",
      " 7   red_envelope_per_day            515 non-null    float64\n",
      " 8   huabei_ratio                    515 non-null    float64\n",
      " 9   credit_card_ratio               515 non-null    float64\n",
      " 10  loan_count                      515 non-null    float64\n",
      " 11  repayment_delay_days            515 non-null    float64\n",
      " 12  history_30_overdue_counts       515 non-null    float64\n",
      " 13  history_total_loan_amount       515 non-null    float64\n",
      " 14  overdue_rate/mean_loan_period   515 non-null    float64\n",
      "dtypes: float64(13), int64(2)\n",
      "memory usage: 60.5 KB\n"
     ]
    }
   ],
   "source": [
    "df_test.info()"
   ]
  },
  {
   "cell_type": "code",
   "execution_count": 56,
   "id": "b9a8d814-014f-464a-a6ed-b92534962175",
   "metadata": {},
   "outputs": [
    {
     "name": "stdout",
     "output_type": "stream",
     "text": [
      "515\n"
     ]
    }
   ],
   "source": [
    "x_test = df_test.drop(columns=['apply_id', 'merchant_id'])\n",
    "x_test = x_test.select_dtypes(include=['float64', 'int64'])\n",
    "print(x_test.shape[0])"
   ]
  },
  {
   "cell_type": "code",
   "execution_count": 57,
   "id": "6421c972-ca50-44b8-8dc2-c7e15e86adaf",
   "metadata": {},
   "outputs": [
    {
     "name": "stdout",
     "output_type": "stream",
     "text": [
      "     lend_amount  lend_period      mean  transaction_amount_per_day_std  \\\n",
      "0      -0.724510     1.235803 -0.501047                       -0.657638   \n",
      "1      -0.454019    -0.349349 -0.466478                       -0.468298   \n",
      "2      -0.647227    -1.141925 -0.434052                       -0.386086   \n",
      "3       1.091641     1.235803 -0.167236                       -0.314030   \n",
      "4      -0.647227    -1.141925 -0.402807                       -0.568085   \n",
      "..           ...          ...       ...                             ...   \n",
      "510    -0.801793    -1.141925 -0.581960                       -0.688321   \n",
      "511     2.250887    -0.877733 -0.285491                        0.269494   \n",
      "512    -0.763151    -1.141925 -0.618550                       -0.716734   \n",
      "513    -0.454019    -0.349349  0.273054                        0.711048   \n",
      "514    -0.067604    -1.141925 -0.088246                       -0.068085   \n",
      "\n",
      "     transaction_count_per_day  red_envelope_per_day  huabei_ratio  \\\n",
      "0                    -0.053434             -0.254501     -0.030875   \n",
      "1                    -0.390878             -0.293059      1.662918   \n",
      "2                    -0.409326             -0.293059     -0.686756   \n",
      "3                    -0.358240             -0.000297     -0.469742   \n",
      "4                     0.173276             -0.237124     -0.535367   \n",
      "..                         ...                   ...           ...   \n",
      "510                  -0.378049             -0.293059      2.271359   \n",
      "511                  -0.055345             -0.284823     -0.512275   \n",
      "512                  -0.407102             -0.293059      3.261006   \n",
      "513                  -0.408267             -0.293059     -0.661046   \n",
      "514                   0.083739             -0.140060     -0.371157   \n",
      "\n",
      "     credit_card_ratio  loan_count  repayment_delay_days  \\\n",
      "0            -0.816473   -0.360679              0.197022   \n",
      "1             0.245852   -0.360679              0.197022   \n",
      "2             1.969657   -0.360679              0.197022   \n",
      "3            -0.842168   -0.360679              0.197022   \n",
      "4            -0.667867   -0.360679              0.197022   \n",
      "..                 ...         ...                   ...   \n",
      "510          -0.954778   -0.360679              0.197022   \n",
      "511           1.189364   -0.360679              0.197022   \n",
      "512          -0.954778   -0.360679              0.197022   \n",
      "513           0.907688   -0.360679              0.197022   \n",
      "514          -0.495753    1.534728              0.197022   \n",
      "\n",
      "     history_30_overdue_counts  history_total_loan_amount  \\\n",
      "0                          0.0                  -0.225810   \n",
      "1                          0.0                  -0.225810   \n",
      "2                          0.0                  -0.225810   \n",
      "3                          0.0                  -0.225810   \n",
      "4                          0.0                  -0.225810   \n",
      "..                         ...                        ...   \n",
      "510                        0.0                  -0.225810   \n",
      "511                        0.0                  -0.225810   \n",
      "512                        0.0                  -0.225810   \n",
      "513                        0.0                  -0.225810   \n",
      "514                        0.0                   0.574823   \n",
      "\n",
      "     overdue_rate/mean_loan_period  \n",
      "0                        -0.288934  \n",
      "1                        -0.288934  \n",
      "2                        -0.288934  \n",
      "3                        -0.288934  \n",
      "4                        -0.288934  \n",
      "..                             ...  \n",
      "510                      -0.288934  \n",
      "511                      -0.288934  \n",
      "512                      -0.288934  \n",
      "513                      -0.288934  \n",
      "514                       2.099720  \n",
      "\n",
      "[515 rows x 13 columns]\n"
     ]
    }
   ],
   "source": [
    "from sklearn.preprocessing import StandardScaler\n",
    "\n",
    "# 创建一个标准化的对象\n",
    "scaler = StandardScaler()\n",
    "\n",
    "# 对DataFrame的每一列进行标准化\n",
    "normalized_x_test = x_test.copy()  # 复制原始DataFrame\n",
    "normalized_x_test[x_test.columns] = scaler.fit_transform(x_test[x_test.columns])\n",
    "\n",
    "# 输出归一化后的DataFrame\n",
    "print(normalized_x_test)"
   ]
  },
  {
   "cell_type": "code",
   "execution_count": 58,
   "id": "3e0f8059-b690-418c-a86c-4e5ec4f08568",
   "metadata": {},
   "outputs": [
    {
     "name": "stdout",
     "output_type": "stream",
     "text": [
      "[0 1 1 0 0 0 1 0 1 0 0 0 0 1 0 0 1 0 0 1 0 1 1 1 1 0 0 0 0 1 0 0 1 0 1 0 0\n",
      " 0 0 0 0 0 0 0 1 1 0 0 0 1 1 0 0 1 0 0 0 0 1 1 0 0 0 1 0 0 0 0 0 0 0 1 0 0\n",
      " 0 1 0 0 0 0 0 0 0 1 0 0 0 1 1 0 1 0 0 0 0 0 0 0 1 0 0 0 0 0 1 0 0 0 0 0 1\n",
      " 1 0 0 0 0 1 0 0 0 1 0 0 1 0 0 1 0 0 0 0 1 0 0 1 0 0 0 0 0 0 0 0 1 0 1 0 0\n",
      " 0 0 0 1 1 1 1 1 0 1 0 0 0 0 1 0 0 0 1 0 0 0 0 0 1 0 0 1 1 1 1 0 0 1 1 0 0\n",
      " 0 0 0 0 0 0 1 1 0 1 0 0 1 0 0 0 0 1 1 0 0 1 1 0 0 0 0 0 0 0 0 0 0 0 0 0 0\n",
      " 0 0 0 0 1 0 0 0 0 0 0 1 0 0 1 0 0 0 1 0 0 0 0 0 0 0 1 1 1 0 0 0 0 0 1 0 0\n",
      " 0 1 0 1 0 1 0 1 0 0 0 0 0 1 0 0 0 1 0 0 0 0 0 1 1 1 1 1 0 0 0 0 1 0 0 0 0\n",
      " 0 0 0 1 1 0 0 0 0 0 0 0 1 0 1 0 1 0 0 0 0 0 0 0 1 0 0 1 1 0 0 0 0 0 1 0 0\n",
      " 0 0 0 0 1 1 1 0 1 0 0 0 0 0 0 1 1 0 0 1 1 0 0 0 0 0 1 0 1 0 0 0 1 1 0 0 1\n",
      " 1 0 0 1 0 0 0 0 1 0 0 0 0 0 0 0 1 0 0 0 1 0 0 1 0 0 0 0 0 0 0 0 0 1 0 0 0\n",
      " 0 0 0 1 1 1 0 0 0 1 0 0 0 0 0 0 1 1 1 0 0 1 0 0 1 0 1 0 0 0 0 1 0 0 0 1 1\n",
      " 0 0 0 1 0 0 0 0 0 0 0 0 0 1 0 0 0 0 0 0 1 0 1 1 0 0 0 0 0 0 0 0 0 0 1 1 0\n",
      " 0 0 1 1 0 0 0 1 0 0 0 1 0 0 0 0 1 1 0 1 1 0 0 1 0 0 0 0 0 0 0 1 1 0]\n"
     ]
    }
   ],
   "source": [
    "# 对测试集进行预测\n",
    "# y_pr_RF = best_classifier_RF.predict(normalized_x_test)\n",
    "y_pr_XGB = best_classifier_XGB.predict(normalized_x_test)\n",
    "# y_pr_mlp = mlp.predict(normalized_x_test)\n",
    "# print(y_pr_RF.shape[0])\n",
    "print(y_pr_XGB)\n",
    "# print(y_pr_mlp)"
   ]
  },
  {
   "cell_type": "code",
   "execution_count": 59,
   "id": "e15be019-c560-46dd-951d-36fc55e4e00c",
   "metadata": {},
   "outputs": [
    {
     "name": "stdout",
     "output_type": "stream",
     "text": [
      "0      50557025\n",
      "1      49510913\n",
      "2      50782824\n",
      "3      51967846\n",
      "4      51105993\n",
      "         ...   \n",
      "510    51298099\n",
      "511    51727003\n",
      "512    51967678\n",
      "513    50391309\n",
      "514    50390497\n",
      "Name: apply_id, Length: 515, dtype: int64\n"
     ]
    }
   ],
   "source": [
    "print(df_test['apply_id'])"
   ]
  },
  {
   "cell_type": "code",
   "execution_count": 60,
   "id": "ab829dd9-f773-4147-a20d-a7ccf1235896",
   "metadata": {},
   "outputs": [],
   "source": [
    "with open(\"table_loan_predict.txt\", 'w') as file:\n",
    "    file.write('apply_id,predict_label')\n",
    "    file.write('\\n')\n",
    "    for i in range(515):\n",
    "        file.write(str(df_test['apply_id'][i]))\n",
    "        file.write(',')\n",
    "        file.write(str(y_pr_XGB[i]))\n",
    "        file.write('\\n')\n",
    "    "
   ]
  }
 ],
 "metadata": {
  "kernelspec": {
   "display_name": "Python 3 (ipykernel)",
   "language": "python",
   "name": "python3"
  },
  "language_info": {
   "codemirror_mode": {
    "name": "ipython",
    "version": 3
   },
   "file_extension": ".py",
   "mimetype": "text/x-python",
   "name": "python",
   "nbconvert_exporter": "python",
   "pygments_lexer": "ipython3",
   "version": "3.11.8"
  }
 },
 "nbformat": 4,
 "nbformat_minor": 5
}
